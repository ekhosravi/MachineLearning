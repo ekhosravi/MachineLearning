{
 "cells": [
  {
   "cell_type": "markdown",
   "metadata": {},
   "source": [
    "# <img src=\"https://filoger.com/wp-content/uploads/2021/09/circle-logo-1536x1536.png\" alt=\"keras\" width=\"150\" height=\"150\">\n",
    "<h1 align=center><font size = 7>Lab 01 : Python</font></h1>\n",
    "<h1 align=center><font size = 4>Hands-On Machine Learning, 1401 | DeadLine: 12th Mehr, 13:00 </font></h1>\n",
    "\n"
   ]
  },
  {
   "cell_type": "markdown",
   "metadata": {
    "button": false,
    "new_sheet": false,
    "run_control": {
     "read_only": false
    }
   },
   "source": [
    "<div class=\"alert alert-info\" style=\"margin-top: 20px\">\n",
    "<font size = 3>\n",
    "\n",
    "<b>Question Sheet!</b>\n",
    "</font>\n",
    "</div>\n",
    "\n",
    "\n"
   ]
  },
  {
   "cell_type": "markdown",
   "metadata": {},
   "source": [
    "## Table of Exercises!\n",
    "\"alert alert-warning\"\n",
    "1. [Question 01](#question01)\n",
    "2. [Question 02](#question02).\n",
    "3. [Question 03](#question03).\n",
    "4. [Question 04](#question04).\n",
    "5. [Question 05](#question05).\n",
    "6. [Question 06](#question06).\n"
   ]
  },
  {
   "cell_type": "markdown",
   "metadata": {
    "button": false,
    "new_sheet": false,
    "run_control": {
     "read_only": false
    }
   },
   "source": [
    "<a id='question01'></a>\n",
    "## Question 01\n",
    "\n",
    "\n"
   ]
  },
  {
   "cell_type": "code",
   "execution_count": 20,
   "metadata": {},
   "outputs": [
    {
     "data": {
      "text/plain": [
       "2.5"
      ]
     },
     "execution_count": 20,
     "metadata": {},
     "output_type": "execute_result"
    }
   ],
   "source": [
    "float('2.5')"
   ]
  },
  {
   "cell_type": "code",
   "execution_count": 21,
   "metadata": {},
   "outputs": [
    {
     "ename": "ValueError",
     "evalue": "could not convert string to float: '2d'",
     "output_type": "error",
     "traceback": [
      "\u001b[1;31m---------------------------------------------------------------------------\u001b[0m",
      "\u001b[1;31mValueError\u001b[0m                                Traceback (most recent call last)",
      "Input \u001b[1;32mIn [21]\u001b[0m, in \u001b[0;36m<cell line: 1>\u001b[1;34m()\u001b[0m\n\u001b[1;32m----> 1\u001b[0m \u001b[38;5;28;43mfloat\u001b[39;49m\u001b[43m(\u001b[49m\u001b[38;5;124;43m'\u001b[39;49m\u001b[38;5;124;43m2d\u001b[39;49m\u001b[38;5;124;43m'\u001b[39;49m\u001b[43m)\u001b[49m\n",
      "\u001b[1;31mValueError\u001b[0m: could not convert string to float: '2d'"
     ]
    }
   ],
   "source": [
    "float('2d')"
   ]
  },
  {
   "cell_type": "code",
   "execution_count": 22,
   "metadata": {},
   "outputs": [],
   "source": [
    "def get_number(text):\n",
    "    \n",
    "    while True:\n",
    "        number = input(text)\n",
    "        \n",
    "        try:\n",
    "            number = float(number)\n",
    "            return number\n",
    "       \n",
    "        except:\n",
    "            print(\"\\nYou have not entered a number. Please try again.\")\n",
    "            continue"
   ]
  },
  {
   "cell_type": "code",
   "execution_count": 9,
   "metadata": {},
   "outputs": [],
   "source": [
    "def get_number(text):\n",
    "    \n",
    "    while True:\n",
    "        number = input(text)\n",
    "        \n",
    "        if number.isdigit() == False:\n",
    "            print(\"\\nYou have not entered a number. Please try again.\")\n",
    "            continue\n",
    "            \n",
    "        else:\n",
    "            return float(number)\n",
    "    "
   ]
  },
  {
   "cell_type": "code",
   "execution_count": 17,
   "metadata": {},
   "outputs": [
    {
     "data": {
      "text/plain": [
       "False"
      ]
     },
     "execution_count": 17,
     "metadata": {},
     "output_type": "execute_result"
    }
   ],
   "source": [
    "'2.5'.isdigit()"
   ]
  },
  {
   "cell_type": "code",
   "execution_count": 23,
   "metadata": {},
   "outputs": [],
   "source": [
    "def get_operator(text):\n",
    "        \n",
    "    while True:\n",
    "        operator = input(text)\n",
    "        \n",
    "        if (operator != '+') and (operator != '-') and (operator != '*') and (operator != '/'):\n",
    "            print(\"\\nYou have not entered a operator. Please try again.\")\n",
    "            continue\n",
    "            \n",
    "        else:\n",
    "            return operator"
   ]
  },
  {
   "cell_type": "code",
   "execution_count": 24,
   "metadata": {},
   "outputs": [],
   "source": [
    "def calculator():\n",
    "    \n",
    "    operator = get_operator('''\n",
    "Please enter your desired operator:\n",
    "+ for addition\n",
    "- for subtraction\n",
    "* for multiplication\n",
    "/ for division\n",
    "''')\n",
    "\n",
    "    number_1 = get_number('\\nPlease enter the first number: ')\n",
    "    number_2 = get_number('Please enter the second number: ')\n",
    "\n",
    "    if operator == '+':\n",
    "        print('\\n{} + {} = '.format(number_1, number_2))\n",
    "        print(number_1 + number_2)\n",
    "\n",
    "    elif operator == '-':\n",
    "        print('\\n{} - {} = '.format(number_1, number_2))\n",
    "        print(number_1 - number_2)\n",
    "\n",
    "    elif operator == '*':\n",
    "        print('\\n{} * {} = '.format(number_1, number_2))\n",
    "        print(number_1 * number_2)\n",
    "\n",
    "    elif operator == '/':\n",
    "        print('\\n{} / {} = '.format(number_1, number_2))\n",
    "        print(number_1 / number_2)\n",
    "\n",
    "\n",
    "    # Ask the user to continue the operation\n",
    "    again()"
   ]
  },
  {
   "cell_type": "code",
   "execution_count": 25,
   "metadata": {},
   "outputs": [],
   "source": [
    "def again():\n",
    "    \n",
    "    calc_again = input('''\n",
    "Do you want to calculate again?\n",
    "Please type Y for YES or N for NO.\n",
    "''')\n",
    "\n",
    "    if calc_again.upper() == 'Y':\n",
    "        calculator()\n",
    "        \n",
    "    elif calc_again.upper() == 'N':\n",
    "        print('\\nSee you later.')\n",
    "        \n",
    "    else:\n",
    "        again()"
   ]
  },
  {
   "cell_type": "code",
   "execution_count": 26,
   "metadata": {},
   "outputs": [
    {
     "name": "stdout",
     "output_type": "stream",
     "text": [
      "\n",
      "Please enter your desired operator:\n",
      "+ for addition\n",
      "- for subtraction\n",
      "* for multiplication\n",
      "/ for division\n",
      "-\n",
      "\n",
      "Please enter the first number: 5.6\n",
      "Please enter the second number: 4\n",
      "\n",
      "5.6 - 4.0 = \n",
      "1.5999999999999996\n",
      "\n",
      "Do you want to calculate again?\n",
      "Please type Y for YES or N for NO.\n",
      "n\n",
      "\n",
      "See you later.\n"
     ]
    }
   ],
   "source": [
    "calculator()"
   ]
  },
  {
   "cell_type": "markdown",
   "metadata": {},
   "source": [
    "<a id='question02'></a>\n",
    "## Question 02\n",
    "\n",
    "\n"
   ]
  },
  {
   "cell_type": "code",
   "execution_count": 27,
   "metadata": {},
   "outputs": [
    {
     "name": "stdout",
     "output_type": "stream",
     "text": [
      "Enter a number: 7\n",
      "Enter a number: 9\n",
      "Enter a number: 12\n",
      "Enter a number: 13\n",
      "Enter a number: finish\n",
      "\n",
      "Average: 10.25\n"
     ]
    }
   ],
   "source": [
    "total = 0\n",
    "count = 0\n",
    "\n",
    "while True :\n",
    "    \n",
    "    inp = input('Enter a number: ')\n",
    "    \n",
    "    if inp == 'finish' : break\n",
    "\n",
    "    total += float(inp)     \n",
    "    count += 1\n",
    "\n",
    "print('\\nAverage:', total / count)"
   ]
  },
  {
   "cell_type": "markdown",
   "metadata": {},
   "source": [
    "**OR**"
   ]
  },
  {
   "cell_type": "code",
   "execution_count": 14,
   "metadata": {},
   "outputs": [
    {
     "name": "stdout",
     "output_type": "stream",
     "text": [
      "Enter a number: 4\n",
      "Enter a number: 6\n",
      "Enter a number: finish\n",
      "\n",
      "Average: 5.0\n"
     ]
    }
   ],
   "source": [
    "list_number = []\n",
    "\n",
    "while True :\n",
    "    \n",
    "    inp = input('Enter a number: ')\n",
    "    \n",
    "    if inp == 'finish' : break\n",
    "\n",
    "    list_number.append(float(inp))     \n",
    "\n",
    "print('\\nAverage:', sum(list_number) / len(list_number))"
   ]
  },
  {
   "cell_type": "code",
   "execution_count": 30,
   "metadata": {},
   "outputs": [
    {
     "data": {
      "text/plain": [
       "5.0"
      ]
     },
     "execution_count": 30,
     "metadata": {},
     "output_type": "execute_result"
    }
   ],
   "source": [
    "sum([4,6])/len([4,6])"
   ]
  },
  {
   "cell_type": "markdown",
   "metadata": {},
   "source": [
    "<a id='question03'></a>\n",
    "## Question 03\n",
    "\n",
    "\n"
   ]
  },
  {
   "cell_type": "code",
   "execution_count": 31,
   "metadata": {},
   "outputs": [],
   "source": [
    "def find_words(string):\n",
    "    \n",
    "    words = string.split()\n",
    "    \n",
    "    print(words)\n",
    "    print('We have {} words'.format(len(words)))"
   ]
  },
  {
   "cell_type": "code",
   "execution_count": 33,
   "metadata": {},
   "outputs": [],
   "source": [
    "string = 'Machine learning will automate jobs that most people thought could only be done by people'"
   ]
  },
  {
   "cell_type": "code",
   "execution_count": 34,
   "metadata": {},
   "outputs": [
    {
     "name": "stdout",
     "output_type": "stream",
     "text": [
      "['Machine', 'learning', 'will', 'automate', 'jobs', 'that', 'most', 'people', 'thought', 'could', 'only', 'be', 'done', 'by', 'people']\n",
      "We have 15 words\n"
     ]
    }
   ],
   "source": [
    "find_words(string)"
   ]
  },
  {
   "cell_type": "markdown",
   "metadata": {},
   "source": [
    "<a id='question04'></a>\n",
    "## Question 04\n",
    "\n",
    "\n"
   ]
  },
  {
   "cell_type": "code",
   "execution_count": 35,
   "metadata": {},
   "outputs": [],
   "source": [
    "def find_repetition_words(text):\n",
    "    word_dict = {}\n",
    "    \n",
    "    words = text.split()\n",
    "    \n",
    "    for word in words:\n",
    "        word_dict[word] = word_dict.get(word, 0) + 1\n",
    "        \n",
    "#     for word, repetition in word_dict.items():\n",
    "#         print('{}: {}'.format(word, repetition))\n",
    "        \n",
    "#     print('Counts', word_dict)\n",
    "    return word_dict"
   ]
  },
  {
   "cell_type": "code",
   "execution_count": 36,
   "metadata": {},
   "outputs": [],
   "source": [
    "text = '''To the tintinnabulation that so musically wells\n",
    "From the bells , bells , bells , bells , bells , bells , bells .\n",
    "From the jingling and the tinkling of the bells .'''"
   ]
  },
  {
   "cell_type": "code",
   "execution_count": 37,
   "metadata": {},
   "outputs": [
    {
     "data": {
      "text/plain": [
       "{'To': 1,\n",
       " 'the': 5,\n",
       " 'tintinnabulation': 1,\n",
       " 'that': 1,\n",
       " 'so': 1,\n",
       " 'musically': 1,\n",
       " 'wells': 1,\n",
       " 'From': 2,\n",
       " 'bells': 8,\n",
       " ',': 6,\n",
       " '.': 2,\n",
       " 'jingling': 1,\n",
       " 'and': 1,\n",
       " 'tinkling': 1,\n",
       " 'of': 1}"
      ]
     },
     "execution_count": 37,
     "metadata": {},
     "output_type": "execute_result"
    }
   ],
   "source": [
    "find_repetition_words(text)"
   ]
  },
  {
   "cell_type": "markdown",
   "metadata": {},
   "source": [
    "<a id='question05'></a>\n",
    "## Question 05\n",
    "\n",
    "\n"
   ]
  },
  {
   "cell_type": "code",
   "execution_count": 41,
   "metadata": {},
   "outputs": [
    {
     "data": {
      "text/plain": [
       "{'a', 'b', 'c', 'd', 'for'}"
      ]
     },
     "execution_count": 41,
     "metadata": {},
     "output_type": "execute_result"
    }
   ],
   "source": [
    "set(dict1).union(dict2)"
   ]
  },
  {
   "cell_type": "code",
   "execution_count": 38,
   "metadata": {},
   "outputs": [
    {
     "name": "stdout",
     "output_type": "stream",
     "text": [
      "{'c': 9, 'd': 200, 'a': 12, 'for': 325, 'b': 100}\n"
     ]
    }
   ],
   "source": [
    "# Example\n",
    "dict1 = {'a': 12, 'for': 25, 'c': 9}\n",
    "dict2 = {'b': 100, 'd': 200, 'for': 300}\n",
    " \n",
    "# calculating resultant dictionary\n",
    "c = {i: dict1.get(i, 0) + dict2.get(i, 0)\n",
    "     for i in set(dict1).union(dict2)}\n",
    " \n",
    "# printing result\n",
    "print(c)"
   ]
  },
  {
   "cell_type": "code",
   "execution_count": 45,
   "metadata": {},
   "outputs": [
    {
     "data": {
      "text/plain": [
       "dict_items([('whose', 1), ('shall', 1), ('cold', 1), ('sick', 2), ('heard', 1), ('we', 1), ('But', 1), ('Who', 1), ('loving', 1), (\"lovers'\", 2), ('fray', 1), ('smoke,', 1), ('lie', 1), ('coz.', 1), ('my', 2), ('breaks', 1), ('first', 1), ('hate,', 1), ('sparkling', 1), ('pale', 1), ('Yet', 1), ('much', 2), ('discreet,', 1), ('envious', 1), ('here?', 1), ('view', 1), ('Why,', 2), ('else?', 1), ('purged,', 1), ('of', 7), ('soft', 1), ('nothing', 1), ('Griefs', 1), ('Farewell,', 1), ('eyes,', 1), (\"nourish'd\", 1), ('love,', 1), ('I', 1), ('it', 4), ('light', 1), ('for', 1), ('yonder', 1), ('Which', 1), ('feel', 2), ('fire', 1), ('to', 4), ('With', 1), ('Being', 2), ('pathways', 1), ('see', 1), ('sighs;', 1), ('hate!', 1), ('through', 1), ('not,', 1), ('What', 2), ('sea', 1), ('fair', 1), ('sleep,', 1), ('own.', 1), ('add', 1), ('me!', 1), ('bright', 1), ('a', 5), ('tears:', 1), ('too', 1), ('Alas,', 1), ('vanity!', 1), ('most', 1), ('love', 3), ('still,', 1), ('thou', 3), ('dine?', 1), ('breast,', 1), ('more', 3), ('without', 1), ('wilt', 1), ('own', 1), (\"vex'd\", 1), ('create!', 1), ('me', 1), ('that', 4), ('have', 2), ('sun', 2), ('and', 4), ('is!', 1), ('this', 1), ('his', 1), ('do', 1), ('smoke', 1), (\"Here's\", 1), ('mine', 2), ('muffled', 1), ('transgression.', 1), ('Mis-shapen', 1), ('lightness!', 1), ('with', 5), ('gall', 1), ('window', 1), ('laugh?', 1), ('chaos', 1), ('but', 1), ('Doth', 1), ('not', 2), ('heavy', 2), ('tell', 1), ('preserving', 1), ('shown', 1), ('no', 1), ('grief', 2), ('serious', 1), ('this.', 1), ('health!', 1), ('already', 1), ('This', 1), ('fume', 1), ('choking', 1), ('such', 1), ('madness', 1), ('Where', 1), ('thing,', 1), ('propagate,', 1), ('any', 1), ('Juliet', 1), ('Arise', 1), ('love!', 1), ('kill', 1), ('eyes;', 1), ('hast', 1), ('all.', 1), ('lead,', 1), ('Dost', 1), (\"love's\", 1), ('Love', 1), ('sweet.', 1), ('A', 1), ('well-seeming', 1), ('will!', 1), ('then,', 1), ('was', 1), ('I,', 1), ('fire,', 1), ('brawling', 1), ('Still-waking', 1), ('the', 4), ('O', 5), ('in', 3), ('moon', 1), ('is', 8), ('Should,', 1), ('Feather', 1), ('thine:', 1), ('raised', 1), ('It', 1), ('love.', 1), ('prest', 1), ('what', 2), ('east', 1), ('forms!', 1)])"
      ]
     },
     "execution_count": 45,
     "metadata": {},
     "output_type": "execute_result"
    }
   ],
   "source": [
    "word_dict.items()"
   ]
  },
  {
   "cell_type": "code",
   "execution_count": 44,
   "metadata": {},
   "outputs": [
    {
     "name": "stdout",
     "output_type": "stream",
     "text": [
      "is 8\n",
      "of 7\n",
      "with 5\n",
      "a 5\n",
      "O 5\n",
      "to 4\n",
      "the 4\n",
      "that 4\n",
      "it 4\n",
      "and 4\n"
     ]
    }
   ],
   "source": [
    "#The top 10 most common words\n",
    "\n",
    "text = open('romeo.txt')\n",
    "\n",
    "word_dict = {}\n",
    "\n",
    "for line in text:\n",
    "    words = find_repetition_words(line)\n",
    "    word_dict = {i: word_dict.get(i, 0) + words.get(i, 0)\n",
    "     for i in set(word_dict).union(words)}\n",
    "\n",
    "\n",
    "word_list = []\n",
    "\n",
    "for key, val in word_dict.items(): \n",
    "    word_list.append((val, key))\n",
    "\n",
    "word_list = sorted(word_list, reverse=True)\n",
    "\n",
    "for val, key in word_list[:10] :\n",
    "    print(key, val)"
   ]
  },
  {
   "cell_type": "markdown",
   "metadata": {},
   "source": [
    "<a id='question06'></a>\n",
    "## Question 06\n",
    "\n",
    "\n"
   ]
  },
  {
   "cell_type": "code",
   "execution_count": 46,
   "metadata": {},
   "outputs": [],
   "source": [
    "def grading(score):\n",
    "    \n",
    "    if score >= 90 and score <= 100:\n",
    "        print('A')\n",
    "    elif score >= 80 and score <= 89:\n",
    "        print('B')\n",
    "    elif score >= 70 and score <= 79:\n",
    "        print('C')\n",
    "    elif score >= 60 and score <= 69:\n",
    "        print('D')\n",
    "    elif score < 60 and score >= 0:\n",
    "        print('F')\n",
    "    else:\n",
    "        print('Error, you entered a score out of range.')"
   ]
  },
  {
   "cell_type": "code",
   "execution_count": 47,
   "metadata": {},
   "outputs": [
    {
     "name": "stdout",
     "output_type": "stream",
     "text": [
      "B\n"
     ]
    }
   ],
   "source": [
    "grading(85)"
   ]
  },
  {
   "cell_type": "code",
   "execution_count": 48,
   "metadata": {},
   "outputs": [
    {
     "name": "stdout",
     "output_type": "stream",
     "text": [
      "Error, you entered a score out of range.\n"
     ]
    }
   ],
   "source": [
    "grading(101)"
   ]
  },
  {
   "cell_type": "markdown",
   "metadata": {},
   "source": [
    "<div class=\"alert alert-success\" role=\"alert\">\n",
    "  <h1 class=\"alert-heading\">Well done!</h1>\n",
    "  <p>Best Wishes!, Filoger</p>\n",
    "</div>"
   ]
  }
 ],
 "metadata": {
  "kernelspec": {
   "display_name": "Python 3 (ipykernel)",
   "language": "python",
   "name": "python3"
  },
  "language_info": {
   "codemirror_mode": {
    "name": "ipython",
    "version": 3
   },
   "file_extension": ".py",
   "mimetype": "text/x-python",
   "name": "python",
   "nbconvert_exporter": "python",
   "pygments_lexer": "ipython3",
   "version": "3.9.12"
  }
 },
 "nbformat": 4,
 "nbformat_minor": 4
}
