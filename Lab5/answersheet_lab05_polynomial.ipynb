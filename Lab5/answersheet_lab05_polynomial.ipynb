{
 "cells": [
  {
   "cell_type": "markdown",
   "id": "ffd33b40",
   "metadata": {},
   "source": [
    "# <img src=\"https://filoger.com/wp-content/uploads/2021/09/circle-logo-1536x1536.png\" alt=\"keras\" width=\"150\" height=\"150\">\n",
    "<h1 align=center><font size = 7>Lab 05 : Polynomial Regression</font></h1>\n",
    "<h1 align=center><font size = 4>Hands-On Machine Learning, 1401 | DeadLine: 3rd Aban, 13:00 </font></h1>\n",
    "\n"
   ]
  },
  {
   "cell_type": "markdown",
   "id": "e532b511",
   "metadata": {},
   "source": [
    "# Step0: Import Libraries"
   ]
  },
  {
   "cell_type": "code",
   "execution_count": null,
   "id": "33229694",
   "metadata": {},
   "outputs": [],
   "source": []
  },
  {
   "cell_type": "markdown",
   "id": "0aeff1a6",
   "metadata": {},
   "source": [
    "# Step1: Read Data"
   ]
  },
  {
   "cell_type": "code",
   "execution_count": null,
   "id": "b04ed4fd",
   "metadata": {},
   "outputs": [],
   "source": []
  },
  {
   "cell_type": "markdown",
   "id": "78d2098f",
   "metadata": {},
   "source": [
    "# Step2: Data Overview"
   ]
  },
  {
   "cell_type": "code",
   "execution_count": null,
   "id": "4b54e40a",
   "metadata": {},
   "outputs": [],
   "source": []
  },
  {
   "cell_type": "markdown",
   "id": "1d61a5f6",
   "metadata": {},
   "source": [
    "# Step3: X, y"
   ]
  },
  {
   "cell_type": "code",
   "execution_count": null,
   "id": "c4d749cf",
   "metadata": {},
   "outputs": [],
   "source": []
  },
  {
   "cell_type": "markdown",
   "id": "a49062cb",
   "metadata": {},
   "source": [
    "# Step4: Linear Regression"
   ]
  },
  {
   "cell_type": "markdown",
   "id": "34f29f87",
   "metadata": {},
   "source": [
    "### train_test_split"
   ]
  },
  {
   "cell_type": "code",
   "execution_count": null,
   "id": "410070f0",
   "metadata": {},
   "outputs": [],
   "source": []
  },
  {
   "cell_type": "markdown",
   "id": "3c158756",
   "metadata": {},
   "source": [
    "### Creat the Model"
   ]
  },
  {
   "cell_type": "code",
   "execution_count": null,
   "id": "660260a6",
   "metadata": {},
   "outputs": [],
   "source": []
  },
  {
   "cell_type": "markdown",
   "id": "9c3189b2",
   "metadata": {},
   "source": [
    "### Train the Model"
   ]
  },
  {
   "cell_type": "code",
   "execution_count": null,
   "id": "9a877438",
   "metadata": {},
   "outputs": [],
   "source": []
  },
  {
   "cell_type": "markdown",
   "id": "db0aa21b",
   "metadata": {},
   "source": [
    "### Print Coefficient and Intercept "
   ]
  },
  {
   "cell_type": "code",
   "execution_count": null,
   "id": "9101a675",
   "metadata": {},
   "outputs": [],
   "source": []
  },
  {
   "cell_type": "markdown",
   "id": "ed1710d5",
   "metadata": {},
   "source": [
    "###  Prediction & Evaluation"
   ]
  },
  {
   "cell_type": "code",
   "execution_count": null,
   "id": "0b22e0a6",
   "metadata": {},
   "outputs": [],
   "source": []
  },
  {
   "cell_type": "markdown",
   "id": "30dd7868",
   "metadata": {},
   "source": [
    "### Creat a DataFrame\n",
    "<hr>\n",
    "<b>MAE, MSE, RMSE</b>"
   ]
  },
  {
   "cell_type": "code",
   "execution_count": null,
   "id": "5c9f6394",
   "metadata": {},
   "outputs": [],
   "source": []
  },
  {
   "cell_type": "markdown",
   "id": "f27806c2",
   "metadata": {},
   "source": [
    "# Step5: PolynomialFeatures"
   ]
  },
  {
   "cell_type": "code",
   "execution_count": null,
   "id": "3c424dff",
   "metadata": {},
   "outputs": [],
   "source": []
  },
  {
   "cell_type": "markdown",
   "id": "b5a80b36",
   "metadata": {},
   "source": [
    "# Step6: train_test_split"
   ]
  },
  {
   "cell_type": "code",
   "execution_count": null,
   "id": "c781b39b",
   "metadata": {},
   "outputs": [],
   "source": []
  },
  {
   "cell_type": "markdown",
   "id": "9eb26faa",
   "metadata": {},
   "source": [
    "# Step7: Polynomial Regression"
   ]
  },
  {
   "cell_type": "markdown",
   "id": "da7fe403",
   "metadata": {},
   "source": [
    "### Creat the Model"
   ]
  },
  {
   "cell_type": "code",
   "execution_count": null,
   "id": "54347473",
   "metadata": {},
   "outputs": [],
   "source": []
  },
  {
   "cell_type": "markdown",
   "id": "34e7f135",
   "metadata": {},
   "source": [
    "###  Train the Model"
   ]
  },
  {
   "cell_type": "code",
   "execution_count": null,
   "id": "6015bdda",
   "metadata": {},
   "outputs": [],
   "source": []
  },
  {
   "cell_type": "markdown",
   "id": "33419738",
   "metadata": {},
   "source": [
    "### Print Coefficient and Intercept"
   ]
  },
  {
   "cell_type": "code",
   "execution_count": null,
   "id": "53e5b9eb",
   "metadata": {},
   "outputs": [],
   "source": []
  },
  {
   "cell_type": "markdown",
   "id": "ddda4fe0",
   "metadata": {},
   "source": [
    "###  Prediction & Evaluation"
   ]
  },
  {
   "cell_type": "code",
   "execution_count": null,
   "id": "a390108e",
   "metadata": {},
   "outputs": [],
   "source": []
  },
  {
   "cell_type": "markdown",
   "id": "34cf9e74",
   "metadata": {},
   "source": [
    "### Creat a DataFrame\n",
    "<hr>\n",
    "<b>MAE, MSE, RMSE</b>"
   ]
  },
  {
   "cell_type": "code",
   "execution_count": null,
   "id": "1a8f5ae5",
   "metadata": {},
   "outputs": [],
   "source": []
  },
  {
   "cell_type": "markdown",
   "id": "b75bfefa",
   "metadata": {},
   "source": [
    "# Step8: Concat DataFrame in Step4 and Step7"
   ]
  },
  {
   "cell_type": "code",
   "execution_count": null,
   "id": "162725a6",
   "metadata": {},
   "outputs": [],
   "source": []
  },
  {
   "cell_type": "markdown",
   "id": "1913f6b7",
   "metadata": {},
   "source": [
    "# Step9: Choose Degree\n",
    "<hr>\n",
    "Plot RMSE Train and RMSE Test for different degrees"
   ]
  },
  {
   "cell_type": "code",
   "execution_count": null,
   "id": "fc609d69",
   "metadata": {},
   "outputs": [],
   "source": []
  },
  {
   "cell_type": "markdown",
   "id": "8f6bf3c8",
   "metadata": {},
   "source": [
    "<div class=\"alert alert-success\" role=\"alert\">\n",
    "  <h1 class=\"alert-heading\">Well done!</h1>\n",
    "  <p>Best Wishes!, Filoger</p>\n",
    "</div>"
   ]
  }
 ],
 "metadata": {
  "kernelspec": {
   "display_name": "Python 3 (ipykernel)",
   "language": "python",
   "name": "python3"
  },
  "language_info": {
   "codemirror_mode": {
    "name": "ipython",
    "version": 3
   },
   "file_extension": ".py",
   "mimetype": "text/x-python",
   "name": "python",
   "nbconvert_exporter": "python",
   "pygments_lexer": "ipython3",
   "version": "3.9.13"
  }
 },
 "nbformat": 4,
 "nbformat_minor": 5
}
