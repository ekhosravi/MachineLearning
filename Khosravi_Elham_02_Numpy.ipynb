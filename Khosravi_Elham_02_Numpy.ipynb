{
 "cells": [
  {
   "cell_type": "markdown",
   "metadata": {},
   "source": [
    "# <img src=\"https://filoger.com/wp-content/uploads/2021/09/circle-logo-1536x1536.png\" alt=\"keras\" width=\"150\" height=\"150\">\n",
    "<h1 align=center><font size = 7>Lab 02 : Numpy</font></h1>\n",
    "<h1 align=center><font size = 4>Hands-On Machine Learning, 1401 | DeadLine: 12th Mehr, 13:00 </font></h1>\n",
    "\n"
   ]
  },
  {
   "cell_type": "markdown",
   "metadata": {
    "button": false,
    "new_sheet": false,
    "run_control": {
     "read_only": false
    }
   },
   "source": [
    "## Question Sheet!\n",
    "\n",
    "<div class=\"alert alert-info\" style=\"margin-top: 20px\">\n",
    "<font size = 3>\n",
    "\n",
    "<b>Download the Question sheet from the following link!</b>\n",
    "-   <a href=\"https://quera.org/course/11764/note/66117\">Lab 02: Numpy</a>\n",
    "</font>\n",
    "</div>\n",
    "\n",
    "\n"
   ]
  },
  {
   "cell_type": "markdown",
   "metadata": {},
   "source": [
    "## Table of Exercises!\n",
    "\"alert alert-warning\"\n",
    "1. [Question 01](#question01)\n",
    "2. [Question 02](#question02).\n",
    "3. [Question 03](#question03).\n",
    "4. [Question 04](#question04).\n",
    "5. [Question 05](#question05).\n",
    "6. [Question 06](#question06).\n"
   ]
  },
  {
   "cell_type": "markdown",
   "metadata": {
    "button": false,
    "new_sheet": false,
    "run_control": {
     "read_only": false
    }
   },
   "source": [
    "<a id='question01'></a>\n",
    "## Question 01\n",
    "\n",
    "\n"
   ]
  },
  {
   "cell_type": "code",
   "execution_count": 1,
   "metadata": {},
   "outputs": [
    {
     "data": {
      "text/plain": [
       "array([[8, 8],\n",
       "       [8, 8],\n",
       "       [8, 8]])"
      ]
     },
     "execution_count": 1,
     "metadata": {},
     "output_type": "execute_result"
    }
   ],
   "source": [
    "import numpy as np\n",
    "np.full((3,2),8)"
   ]
  },
  {
   "cell_type": "markdown",
   "metadata": {},
   "source": [
    "<a id='question02'></a>\n",
    "## Question 02\n",
    "\n",
    "\n"
   ]
  },
  {
   "cell_type": "code",
   "execution_count": 2,
   "metadata": {},
   "outputs": [
    {
     "data": {
      "text/plain": [
       "array([[1., 0., 0., 0., 0.],\n",
       "       [0., 1., 0., 0., 0.],\n",
       "       [0., 0., 1., 0., 0.],\n",
       "       [0., 0., 0., 1., 0.],\n",
       "       [0., 0., 0., 0., 1.]])"
      ]
     },
     "execution_count": 2,
     "metadata": {},
     "output_type": "execute_result"
    }
   ],
   "source": [
    "np.eye(5)"
   ]
  },
  {
   "cell_type": "markdown",
   "metadata": {},
   "source": [
    "<a id='question03'></a>\n",
    "## Question 03\n",
    "\n",
    "\n"
   ]
  },
  {
   "cell_type": "code",
   "execution_count": 3,
   "metadata": {},
   "outputs": [
    {
     "data": {
      "text/plain": [
       "array([[5.16398628, 5.70667587, 0.28474226, 1.71521656, 6.85276982,\n",
       "        8.33896863, 3.0696622 , 8.9361308 , 7.21543862, 1.89938954],\n",
       "       [5.54227591, 3.52131954, 1.81892403, 7.85601762, 9.65483222,\n",
       "        2.32353662, 0.83561434, 6.03548422, 7.28992757, 2.76238828],\n",
       "       [6.85306329, 5.17867474, 0.48484537, 1.37869238, 1.86967426,\n",
       "        9.94317901, 5.20665397, 5.78789535, 7.34819058, 5.41961772],\n",
       "       [9.13153558, 8.07920151, 4.02997831, 3.57224343, 9.52876715,\n",
       "        3.43631578, 8.65099816, 8.30277712, 5.38161449, 9.22469373],\n",
       "       [0.9714648 , 1.02847493, 7.01507296, 8.90479869, 1.59560301,\n",
       "        2.75572545, 6.7249153 , 1.64303124, 7.01371137, 4.87635222],\n",
       "       [6.80677768, 5.21548192, 0.43396694, 2.23936604, 5.75205087,\n",
       "        1.2043366 , 5.00116714, 1.38009568, 0.52808401, 1.78276923],\n",
       "       [4.42368132, 8.77587325, 9.49264129, 4.78167417, 4.61119342,\n",
       "        6.37289031, 3.24607996, 1.17578093, 0.51100996, 6.37658653],\n",
       "       [8.12265895, 6.7026042 , 6.51767703, 4.24568944, 6.56595336,\n",
       "        2.09161499, 6.59924519, 5.29623399, 7.4852037 , 0.93756856],\n",
       "       [7.8452185 , 6.87242038, 6.95078497, 4.9686652 , 9.75361127,\n",
       "        2.03527621, 2.9902041 , 2.27655893, 0.48168885, 9.03971357],\n",
       "       [0.80103539, 6.07216272, 6.30846704, 3.77941932, 0.13241011,\n",
       "        8.42219412, 3.84937746, 5.51665845, 7.1053814 , 6.75278851]])"
      ]
     },
     "execution_count": 3,
     "metadata": {},
     "output_type": "execute_result"
    }
   ],
   "source": [
    "np.random.seed(101)\n",
    "np.random.uniform(0,10,size=(10,10))"
   ]
  },
  {
   "cell_type": "markdown",
   "metadata": {},
   "source": [
    "<a id='question04'></a>\n",
    "## Question 04\n",
    "\n",
    "\n"
   ]
  },
  {
   "cell_type": "code",
   "execution_count": 4,
   "metadata": {},
   "outputs": [
    {
     "data": {
      "text/plain": [
       "array([4.        , 4.11111111, 4.22222222, 4.33333333, 4.44444444,\n",
       "       4.55555556, 4.66666667, 4.77777778, 4.88888889, 5.        ])"
      ]
     },
     "execution_count": 4,
     "metadata": {},
     "output_type": "execute_result"
    }
   ],
   "source": [
    "np.linspace(4,5,10)"
   ]
  },
  {
   "cell_type": "markdown",
   "metadata": {},
   "source": [
    "<a id='question05'></a>\n",
    "## Question 05\n",
    "\n",
    "\n"
   ]
  },
  {
   "cell_type": "code",
   "execution_count": 8,
   "metadata": {},
   "outputs": [
    {
     "data": {
      "text/plain": [
       "array([ 10,  13,  16,  19,  22,  25,  28,  31,  34,  37,  40,  43,  46,\n",
       "        49,  52,  55,  58,  61,  64,  67,  70,  73,  76,  79,  82,  85,\n",
       "        88,  91,  94,  97, 100])"
      ]
     },
     "execution_count": 8,
     "metadata": {},
     "output_type": "execute_result"
    }
   ],
   "source": [
    "np.arange(10,101,3)"
   ]
  },
  {
   "cell_type": "markdown",
   "metadata": {},
   "source": [
    "<a id='question06'></a>\n",
    "## Question 06\n",
    "\n",
    "\n"
   ]
  },
  {
   "cell_type": "code",
   "execution_count": 11,
   "metadata": {},
   "outputs": [
    {
     "data": {
      "image/png": "[encoded data removed]",
      "text/plain": [
       "<Figure size 432x288 with 1 Axes>"
      ]
     },
     "metadata": {
      "needs_background": "light"
     },
     "output_type": "display_data"
    }
   ],
   "source": [
    "import matplotlib.pyplot as plt\n",
    "import matplotlib.mlab as mlab\n",
    "\n",
    "np.random.seed(42)\n",
    "x = 50 + 10 * np.random.randn(1000)\n",
    "n,bins,_=plt.hist(x,bins=42,edgecolor='black' )"
   ]
  },
  {
   "cell_type": "code",
   "execution_count": null,
   "metadata": {},
   "outputs": [],
   "source": []
  },
  {
   "cell_type": "markdown",
   "metadata": {},
   "source": [
    "<div class=\"alert alert-success\" role=\"alert\">\n",
    "  <h1 class=\"alert-heading\">Well done!</h1>\n",
    "  <p>Best Wishes!, Filoger</p>\n",
    "</div>"
   ]
  },
  {
   "cell_type": "code",
   "execution_count": null,
   "metadata": {},
   "outputs": [],
   "source": []
  }
 ],
 "metadata": {
  "kernelspec": {
   "display_name": "Python 3",
   "language": "python",
   "name": "python3"
  },
  "language_info": {
   "codemirror_mode": {
    "name": "ipython",
    "version": 3
   },
   "file_extension": ".py",
   "mimetype": "text/x-python",
   "name": "python",
   "nbconvert_exporter": "python",
   "pygments_lexer": "ipython3",
   "version": "3.8.8"
  }
 },
 "nbformat": 4,
 "nbformat_minor": 4
}
