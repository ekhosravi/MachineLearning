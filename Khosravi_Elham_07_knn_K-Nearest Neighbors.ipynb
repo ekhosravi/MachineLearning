{
 "cells": [
  {
   "cell_type": "markdown",
   "id": "ffd33b40",
   "metadata": {},
   "source": [
    "<h1 align=center><font size = 7>Lab 07 : K-Nearest Neighbors</font></h1>\n",
    "<h1 align=center><font size = 5>Elham Khosravi</font></h1>\n",
    "<h1 align=center><font size = 4>Hands-On Machine Learning, 2022 | DeadLine: 15th November, 13:00 </font></h1>\n",
    "\n"
   ]
  },
  {
   "cell_type": "markdown",
   "id": "e532b511",
   "metadata": {},
   "source": [
    "# Step0: Import Libraries"
   ]
  },
  {
   "cell_type": "code",
   "execution_count": 104,
   "id": "33229694",
   "metadata": {},
   "outputs": [],
   "source": [
    "import numpy as np\n",
    "import pandas as pd\n",
    "import matplotlib.pyplot as plt\n",
    "import seaborn as sns\n",
    "%matplotlib inline\n",
    "\n",
    "from sklearn.metrics import accuracy_score\n",
    "from sklearn.model_selection import train_test_split\n",
    "from sklearn.preprocessing import StandardScaler\n",
    "from sklearn.neighbors import KNeighborsClassifier\n",
    "from sklearn.metrics import classification_report, confusion_matrix, accuracy_score\n",
    "\n",
    "from sklearn.pipeline import Pipeline\n",
    "from sklearn.model_selection import GridSearchCV"
   ]
  },
  {
   "cell_type": "markdown",
   "id": "0aeff1a6",
   "metadata": {},
   "source": [
    "# Step1: Read Data"
   ]
  },
  {
   "cell_type": "code",
   "execution_count": 105,
   "id": "b04ed4fd",
   "metadata": {},
   "outputs": [],
   "source": [
    "df = pd.read_csv('mushrooms.csv')"
   ]
  },
  {
   "cell_type": "markdown",
   "id": "78d2098f",
   "metadata": {},
   "source": [
    "# Step2: Data Overview"
   ]
  },
  {
   "cell_type": "code",
   "execution_count": 106,
   "id": "4b54e40a",
   "metadata": {},
   "outputs": [
    {
     "name": "stdout",
     "output_type": "stream",
     "text": [
      "<class 'pandas.core.frame.DataFrame'>\n",
      "RangeIndex: 8124 entries, 0 to 8123\n",
      "Data columns (total 23 columns):\n",
      " #   Column                    Non-Null Count  Dtype \n",
      "---  ------                    --------------  ----- \n",
      " 0   class                     8124 non-null   object\n",
      " 1   cap-shape                 8124 non-null   object\n",
      " 2   cap-surface               8124 non-null   object\n",
      " 3   cap-color                 8124 non-null   object\n",
      " 4   bruises                   8124 non-null   object\n",
      " 5   odor                      8124 non-null   object\n",
      " 6   gill-attachment           8124 non-null   object\n",
      " 7   gill-spacing              8124 non-null   object\n",
      " 8   gill-size                 8124 non-null   object\n",
      " 9   gill-color                8124 non-null   object\n",
      " 10  stalk-shape               8124 non-null   object\n",
      " 11  stalk-root                8124 non-null   object\n",
      " 12  stalk-surface-above-ring  8124 non-null   object\n",
      " 13  stalk-surface-below-ring  8124 non-null   object\n",
      " 14  stalk-color-above-ring    8124 non-null   object\n",
      " 15  stalk-color-below-ring    8124 non-null   object\n",
      " 16  veil-type                 8124 non-null   object\n",
      " 17  veil-color                8124 non-null   object\n",
      " 18  ring-number               8124 non-null   object\n",
      " 19  ring-type                 8124 non-null   object\n",
      " 20  spore-print-color         8124 non-null   object\n",
      " 21  population                8124 non-null   object\n",
      " 22  habitat                   8124 non-null   object\n",
      "dtypes: object(23)\n",
      "memory usage: 1.4+ MB\n"
     ]
    }
   ],
   "source": [
    "df.info()"
   ]
  },
  {
   "cell_type": "code",
   "execution_count": 107,
   "id": "26ca278b",
   "metadata": {},
   "outputs": [
    {
     "data": {
      "text/html": [
       "<div>\n",
       "<style scoped>\n",
       "    .dataframe tbody tr th:only-of-type {\n",
       "        vertical-align: middle;\n",
       "    }\n",
       "\n",
       "    .dataframe tbody tr th {\n",
       "        vertical-align: top;\n",
       "    }\n",
       "\n",
       "    .dataframe thead th {\n",
       "        text-align: right;\n",
       "    }\n",
       "</style>\n",
       "<table border=\"1\" class=\"dataframe\">\n",
       "  <thead>\n",
       "    <tr style=\"text-align: right;\">\n",
       "      <th></th>\n",
       "      <th>class</th>\n",
       "      <th>cap-shape</th>\n",
       "      <th>cap-surface</th>\n",
       "      <th>cap-color</th>\n",
       "      <th>bruises</th>\n",
       "      <th>odor</th>\n",
       "      <th>gill-attachment</th>\n",
       "      <th>gill-spacing</th>\n",
       "      <th>gill-size</th>\n",
       "      <th>gill-color</th>\n",
       "      <th>...</th>\n",
       "      <th>stalk-surface-below-ring</th>\n",
       "      <th>stalk-color-above-ring</th>\n",
       "      <th>stalk-color-below-ring</th>\n",
       "      <th>veil-type</th>\n",
       "      <th>veil-color</th>\n",
       "      <th>ring-number</th>\n",
       "      <th>ring-type</th>\n",
       "      <th>spore-print-color</th>\n",
       "      <th>population</th>\n",
       "      <th>habitat</th>\n",
       "    </tr>\n",
       "  </thead>\n",
       "  <tbody>\n",
       "    <tr>\n",
       "      <th>0</th>\n",
       "      <td>p</td>\n",
       "      <td>x</td>\n",
       "      <td>s</td>\n",
       "      <td>n</td>\n",
       "      <td>t</td>\n",
       "      <td>p</td>\n",
       "      <td>f</td>\n",
       "      <td>c</td>\n",
       "      <td>n</td>\n",
       "      <td>k</td>\n",
       "      <td>...</td>\n",
       "      <td>s</td>\n",
       "      <td>w</td>\n",
       "      <td>w</td>\n",
       "      <td>p</td>\n",
       "      <td>w</td>\n",
       "      <td>o</td>\n",
       "      <td>p</td>\n",
       "      <td>k</td>\n",
       "      <td>s</td>\n",
       "      <td>u</td>\n",
       "    </tr>\n",
       "    <tr>\n",
       "      <th>1</th>\n",
       "      <td>e</td>\n",
       "      <td>x</td>\n",
       "      <td>s</td>\n",
       "      <td>y</td>\n",
       "      <td>t</td>\n",
       "      <td>a</td>\n",
       "      <td>f</td>\n",
       "      <td>c</td>\n",
       "      <td>b</td>\n",
       "      <td>k</td>\n",
       "      <td>...</td>\n",
       "      <td>s</td>\n",
       "      <td>w</td>\n",
       "      <td>w</td>\n",
       "      <td>p</td>\n",
       "      <td>w</td>\n",
       "      <td>o</td>\n",
       "      <td>p</td>\n",
       "      <td>n</td>\n",
       "      <td>n</td>\n",
       "      <td>g</td>\n",
       "    </tr>\n",
       "    <tr>\n",
       "      <th>2</th>\n",
       "      <td>e</td>\n",
       "      <td>b</td>\n",
       "      <td>s</td>\n",
       "      <td>w</td>\n",
       "      <td>t</td>\n",
       "      <td>l</td>\n",
       "      <td>f</td>\n",
       "      <td>c</td>\n",
       "      <td>b</td>\n",
       "      <td>n</td>\n",
       "      <td>...</td>\n",
       "      <td>s</td>\n",
       "      <td>w</td>\n",
       "      <td>w</td>\n",
       "      <td>p</td>\n",
       "      <td>w</td>\n",
       "      <td>o</td>\n",
       "      <td>p</td>\n",
       "      <td>n</td>\n",
       "      <td>n</td>\n",
       "      <td>m</td>\n",
       "    </tr>\n",
       "    <tr>\n",
       "      <th>3</th>\n",
       "      <td>p</td>\n",
       "      <td>x</td>\n",
       "      <td>y</td>\n",
       "      <td>w</td>\n",
       "      <td>t</td>\n",
       "      <td>p</td>\n",
       "      <td>f</td>\n",
       "      <td>c</td>\n",
       "      <td>n</td>\n",
       "      <td>n</td>\n",
       "      <td>...</td>\n",
       "      <td>s</td>\n",
       "      <td>w</td>\n",
       "      <td>w</td>\n",
       "      <td>p</td>\n",
       "      <td>w</td>\n",
       "      <td>o</td>\n",
       "      <td>p</td>\n",
       "      <td>k</td>\n",
       "      <td>s</td>\n",
       "      <td>u</td>\n",
       "    </tr>\n",
       "    <tr>\n",
       "      <th>4</th>\n",
       "      <td>e</td>\n",
       "      <td>x</td>\n",
       "      <td>s</td>\n",
       "      <td>g</td>\n",
       "      <td>f</td>\n",
       "      <td>n</td>\n",
       "      <td>f</td>\n",
       "      <td>w</td>\n",
       "      <td>b</td>\n",
       "      <td>k</td>\n",
       "      <td>...</td>\n",
       "      <td>s</td>\n",
       "      <td>w</td>\n",
       "      <td>w</td>\n",
       "      <td>p</td>\n",
       "      <td>w</td>\n",
       "      <td>o</td>\n",
       "      <td>e</td>\n",
       "      <td>n</td>\n",
       "      <td>a</td>\n",
       "      <td>g</td>\n",
       "    </tr>\n",
       "  </tbody>\n",
       "</table>\n",
       "<p>5 rows × 23 columns</p>\n",
       "</div>"
      ],
      "text/plain": [
       "  class cap-shape cap-surface cap-color bruises odor gill-attachment  \\\n",
       "0     p         x           s         n       t    p               f   \n",
       "1     e         x           s         y       t    a               f   \n",
       "2     e         b           s         w       t    l               f   \n",
       "3     p         x           y         w       t    p               f   \n",
       "4     e         x           s         g       f    n               f   \n",
       "\n",
       "  gill-spacing gill-size gill-color  ... stalk-surface-below-ring  \\\n",
       "0            c         n          k  ...                        s   \n",
       "1            c         b          k  ...                        s   \n",
       "2            c         b          n  ...                        s   \n",
       "3            c         n          n  ...                        s   \n",
       "4            w         b          k  ...                        s   \n",
       "\n",
       "  stalk-color-above-ring stalk-color-below-ring veil-type veil-color  \\\n",
       "0                      w                      w         p          w   \n",
       "1                      w                      w         p          w   \n",
       "2                      w                      w         p          w   \n",
       "3                      w                      w         p          w   \n",
       "4                      w                      w         p          w   \n",
       "\n",
       "  ring-number ring-type spore-print-color population habitat  \n",
       "0           o         p                 k          s       u  \n",
       "1           o         p                 n          n       g  \n",
       "2           o         p                 n          n       m  \n",
       "3           o         p                 k          s       u  \n",
       "4           o         e                 n          a       g  \n",
       "\n",
       "[5 rows x 23 columns]"
      ]
     },
     "execution_count": 107,
     "metadata": {},
     "output_type": "execute_result"
    }
   ],
   "source": [
    "df.head()"
   ]
  },
  {
   "cell_type": "code",
   "execution_count": 108,
   "id": "374f1d34",
   "metadata": {},
   "outputs": [
    {
     "data": {
      "text/plain": [
       "(8124, 23)"
      ]
     },
     "execution_count": 108,
     "metadata": {},
     "output_type": "execute_result"
    }
   ],
   "source": [
    "df.shape"
   ]
  },
  {
   "cell_type": "code",
   "execution_count": 109,
   "id": "0288e919",
   "metadata": {},
   "outputs": [
    {
     "data": {
      "text/plain": [
       "p    8124\n",
       "Name: veil-type, dtype: int64"
      ]
     },
     "execution_count": 109,
     "metadata": {},
     "output_type": "execute_result"
    }
   ],
   "source": [
    "df['veil-type'].value_counts()"
   ]
  },
  {
   "cell_type": "code",
   "execution_count": 110,
   "id": "7bc1721e",
   "metadata": {},
   "outputs": [],
   "source": [
    "df.drop('veil-type', axis=1, inplace=True)"
   ]
  },
  {
   "cell_type": "code",
   "execution_count": 111,
   "id": "97f2695c",
   "metadata": {},
   "outputs": [
    {
     "data": {
      "text/plain": [
       "array(['w', 'n', 'o', 'y'], dtype=object)"
      ]
     },
     "execution_count": 111,
     "metadata": {},
     "output_type": "execute_result"
    }
   ],
   "source": [
    "df['veil-color'].unique()"
   ]
  },
  {
   "cell_type": "code",
   "execution_count": 112,
   "id": "70621eb8",
   "metadata": {},
   "outputs": [],
   "source": [
    "df_num = df.select_dtypes(exclude='object')\n",
    "df_obj = df.select_dtypes(include='object')\n",
    "\n",
    "df_obj = pd.get_dummies(df_obj  , drop_first=True)"
   ]
  },
  {
   "cell_type": "code",
   "execution_count": 113,
   "id": "20ab5db4",
   "metadata": {},
   "outputs": [
    {
     "data": {
      "text/plain": [
       "(8124, 0)"
      ]
     },
     "execution_count": 113,
     "metadata": {},
     "output_type": "execute_result"
    }
   ],
   "source": [
    "df_num.shape"
   ]
  },
  {
   "cell_type": "code",
   "execution_count": 114,
   "id": "93aeb8d1",
   "metadata": {},
   "outputs": [
    {
     "data": {
      "text/html": [
       "<div>\n",
       "<style scoped>\n",
       "    .dataframe tbody tr th:only-of-type {\n",
       "        vertical-align: middle;\n",
       "    }\n",
       "\n",
       "    .dataframe tbody tr th {\n",
       "        vertical-align: top;\n",
       "    }\n",
       "\n",
       "    .dataframe thead th {\n",
       "        text-align: right;\n",
       "    }\n",
       "</style>\n",
       "<table border=\"1\" class=\"dataframe\">\n",
       "  <thead>\n",
       "    <tr style=\"text-align: right;\">\n",
       "      <th></th>\n",
       "      <th>class_p</th>\n",
       "      <th>cap-shape_c</th>\n",
       "      <th>cap-shape_f</th>\n",
       "      <th>cap-shape_k</th>\n",
       "      <th>cap-shape_s</th>\n",
       "      <th>cap-shape_x</th>\n",
       "      <th>cap-surface_g</th>\n",
       "      <th>cap-surface_s</th>\n",
       "      <th>cap-surface_y</th>\n",
       "      <th>cap-color_c</th>\n",
       "      <th>...</th>\n",
       "      <th>population_n</th>\n",
       "      <th>population_s</th>\n",
       "      <th>population_v</th>\n",
       "      <th>population_y</th>\n",
       "      <th>habitat_g</th>\n",
       "      <th>habitat_l</th>\n",
       "      <th>habitat_m</th>\n",
       "      <th>habitat_p</th>\n",
       "      <th>habitat_u</th>\n",
       "      <th>habitat_w</th>\n",
       "    </tr>\n",
       "  </thead>\n",
       "  <tbody>\n",
       "    <tr>\n",
       "      <th>0</th>\n",
       "      <td>1</td>\n",
       "      <td>0</td>\n",
       "      <td>0</td>\n",
       "      <td>0</td>\n",
       "      <td>0</td>\n",
       "      <td>1</td>\n",
       "      <td>0</td>\n",
       "      <td>1</td>\n",
       "      <td>0</td>\n",
       "      <td>0</td>\n",
       "      <td>...</td>\n",
       "      <td>0</td>\n",
       "      <td>1</td>\n",
       "      <td>0</td>\n",
       "      <td>0</td>\n",
       "      <td>0</td>\n",
       "      <td>0</td>\n",
       "      <td>0</td>\n",
       "      <td>0</td>\n",
       "      <td>1</td>\n",
       "      <td>0</td>\n",
       "    </tr>\n",
       "    <tr>\n",
       "      <th>1</th>\n",
       "      <td>0</td>\n",
       "      <td>0</td>\n",
       "      <td>0</td>\n",
       "      <td>0</td>\n",
       "      <td>0</td>\n",
       "      <td>1</td>\n",
       "      <td>0</td>\n",
       "      <td>1</td>\n",
       "      <td>0</td>\n",
       "      <td>0</td>\n",
       "      <td>...</td>\n",
       "      <td>1</td>\n",
       "      <td>0</td>\n",
       "      <td>0</td>\n",
       "      <td>0</td>\n",
       "      <td>1</td>\n",
       "      <td>0</td>\n",
       "      <td>0</td>\n",
       "      <td>0</td>\n",
       "      <td>0</td>\n",
       "      <td>0</td>\n",
       "    </tr>\n",
       "    <tr>\n",
       "      <th>2</th>\n",
       "      <td>0</td>\n",
       "      <td>0</td>\n",
       "      <td>0</td>\n",
       "      <td>0</td>\n",
       "      <td>0</td>\n",
       "      <td>0</td>\n",
       "      <td>0</td>\n",
       "      <td>1</td>\n",
       "      <td>0</td>\n",
       "      <td>0</td>\n",
       "      <td>...</td>\n",
       "      <td>1</td>\n",
       "      <td>0</td>\n",
       "      <td>0</td>\n",
       "      <td>0</td>\n",
       "      <td>0</td>\n",
       "      <td>0</td>\n",
       "      <td>1</td>\n",
       "      <td>0</td>\n",
       "      <td>0</td>\n",
       "      <td>0</td>\n",
       "    </tr>\n",
       "    <tr>\n",
       "      <th>3</th>\n",
       "      <td>1</td>\n",
       "      <td>0</td>\n",
       "      <td>0</td>\n",
       "      <td>0</td>\n",
       "      <td>0</td>\n",
       "      <td>1</td>\n",
       "      <td>0</td>\n",
       "      <td>0</td>\n",
       "      <td>1</td>\n",
       "      <td>0</td>\n",
       "      <td>...</td>\n",
       "      <td>0</td>\n",
       "      <td>1</td>\n",
       "      <td>0</td>\n",
       "      <td>0</td>\n",
       "      <td>0</td>\n",
       "      <td>0</td>\n",
       "      <td>0</td>\n",
       "      <td>0</td>\n",
       "      <td>1</td>\n",
       "      <td>0</td>\n",
       "    </tr>\n",
       "    <tr>\n",
       "      <th>4</th>\n",
       "      <td>0</td>\n",
       "      <td>0</td>\n",
       "      <td>0</td>\n",
       "      <td>0</td>\n",
       "      <td>0</td>\n",
       "      <td>1</td>\n",
       "      <td>0</td>\n",
       "      <td>1</td>\n",
       "      <td>0</td>\n",
       "      <td>0</td>\n",
       "      <td>...</td>\n",
       "      <td>0</td>\n",
       "      <td>0</td>\n",
       "      <td>0</td>\n",
       "      <td>0</td>\n",
       "      <td>1</td>\n",
       "      <td>0</td>\n",
       "      <td>0</td>\n",
       "      <td>0</td>\n",
       "      <td>0</td>\n",
       "      <td>0</td>\n",
       "    </tr>\n",
       "    <tr>\n",
       "      <th>...</th>\n",
       "      <td>...</td>\n",
       "      <td>...</td>\n",
       "      <td>...</td>\n",
       "      <td>...</td>\n",
       "      <td>...</td>\n",
       "      <td>...</td>\n",
       "      <td>...</td>\n",
       "      <td>...</td>\n",
       "      <td>...</td>\n",
       "      <td>...</td>\n",
       "      <td>...</td>\n",
       "      <td>...</td>\n",
       "      <td>...</td>\n",
       "      <td>...</td>\n",
       "      <td>...</td>\n",
       "      <td>...</td>\n",
       "      <td>...</td>\n",
       "      <td>...</td>\n",
       "      <td>...</td>\n",
       "      <td>...</td>\n",
       "      <td>...</td>\n",
       "    </tr>\n",
       "    <tr>\n",
       "      <th>8119</th>\n",
       "      <td>0</td>\n",
       "      <td>0</td>\n",
       "      <td>0</td>\n",
       "      <td>1</td>\n",
       "      <td>0</td>\n",
       "      <td>0</td>\n",
       "      <td>0</td>\n",
       "      <td>1</td>\n",
       "      <td>0</td>\n",
       "      <td>0</td>\n",
       "      <td>...</td>\n",
       "      <td>0</td>\n",
       "      <td>0</td>\n",
       "      <td>0</td>\n",
       "      <td>0</td>\n",
       "      <td>0</td>\n",
       "      <td>1</td>\n",
       "      <td>0</td>\n",
       "      <td>0</td>\n",
       "      <td>0</td>\n",
       "      <td>0</td>\n",
       "    </tr>\n",
       "    <tr>\n",
       "      <th>8120</th>\n",
       "      <td>0</td>\n",
       "      <td>0</td>\n",
       "      <td>0</td>\n",
       "      <td>0</td>\n",
       "      <td>0</td>\n",
       "      <td>1</td>\n",
       "      <td>0</td>\n",
       "      <td>1</td>\n",
       "      <td>0</td>\n",
       "      <td>0</td>\n",
       "      <td>...</td>\n",
       "      <td>0</td>\n",
       "      <td>0</td>\n",
       "      <td>1</td>\n",
       "      <td>0</td>\n",
       "      <td>0</td>\n",
       "      <td>1</td>\n",
       "      <td>0</td>\n",
       "      <td>0</td>\n",
       "      <td>0</td>\n",
       "      <td>0</td>\n",
       "    </tr>\n",
       "    <tr>\n",
       "      <th>8121</th>\n",
       "      <td>0</td>\n",
       "      <td>0</td>\n",
       "      <td>1</td>\n",
       "      <td>0</td>\n",
       "      <td>0</td>\n",
       "      <td>0</td>\n",
       "      <td>0</td>\n",
       "      <td>1</td>\n",
       "      <td>0</td>\n",
       "      <td>0</td>\n",
       "      <td>...</td>\n",
       "      <td>0</td>\n",
       "      <td>0</td>\n",
       "      <td>0</td>\n",
       "      <td>0</td>\n",
       "      <td>0</td>\n",
       "      <td>1</td>\n",
       "      <td>0</td>\n",
       "      <td>0</td>\n",
       "      <td>0</td>\n",
       "      <td>0</td>\n",
       "    </tr>\n",
       "    <tr>\n",
       "      <th>8122</th>\n",
       "      <td>1</td>\n",
       "      <td>0</td>\n",
       "      <td>0</td>\n",
       "      <td>1</td>\n",
       "      <td>0</td>\n",
       "      <td>0</td>\n",
       "      <td>0</td>\n",
       "      <td>0</td>\n",
       "      <td>1</td>\n",
       "      <td>0</td>\n",
       "      <td>...</td>\n",
       "      <td>0</td>\n",
       "      <td>0</td>\n",
       "      <td>1</td>\n",
       "      <td>0</td>\n",
       "      <td>0</td>\n",
       "      <td>1</td>\n",
       "      <td>0</td>\n",
       "      <td>0</td>\n",
       "      <td>0</td>\n",
       "      <td>0</td>\n",
       "    </tr>\n",
       "    <tr>\n",
       "      <th>8123</th>\n",
       "      <td>0</td>\n",
       "      <td>0</td>\n",
       "      <td>0</td>\n",
       "      <td>0</td>\n",
       "      <td>0</td>\n",
       "      <td>1</td>\n",
       "      <td>0</td>\n",
       "      <td>1</td>\n",
       "      <td>0</td>\n",
       "      <td>0</td>\n",
       "      <td>...</td>\n",
       "      <td>0</td>\n",
       "      <td>0</td>\n",
       "      <td>0</td>\n",
       "      <td>0</td>\n",
       "      <td>0</td>\n",
       "      <td>1</td>\n",
       "      <td>0</td>\n",
       "      <td>0</td>\n",
       "      <td>0</td>\n",
       "      <td>0</td>\n",
       "    </tr>\n",
       "  </tbody>\n",
       "</table>\n",
       "<p>8124 rows × 96 columns</p>\n",
       "</div>"
      ],
      "text/plain": [
       "      class_p  cap-shape_c  cap-shape_f  cap-shape_k  cap-shape_s  \\\n",
       "0           1            0            0            0            0   \n",
       "1           0            0            0            0            0   \n",
       "2           0            0            0            0            0   \n",
       "3           1            0            0            0            0   \n",
       "4           0            0            0            0            0   \n",
       "...       ...          ...          ...          ...          ...   \n",
       "8119        0            0            0            1            0   \n",
       "8120        0            0            0            0            0   \n",
       "8121        0            0            1            0            0   \n",
       "8122        1            0            0            1            0   \n",
       "8123        0            0            0            0            0   \n",
       "\n",
       "      cap-shape_x  cap-surface_g  cap-surface_s  cap-surface_y  cap-color_c  \\\n",
       "0               1              0              1              0            0   \n",
       "1               1              0              1              0            0   \n",
       "2               0              0              1              0            0   \n",
       "3               1              0              0              1            0   \n",
       "4               1              0              1              0            0   \n",
       "...           ...            ...            ...            ...          ...   \n",
       "8119            0              0              1              0            0   \n",
       "8120            1              0              1              0            0   \n",
       "8121            0              0              1              0            0   \n",
       "8122            0              0              0              1            0   \n",
       "8123            1              0              1              0            0   \n",
       "\n",
       "      ...  population_n  population_s  population_v  population_y  habitat_g  \\\n",
       "0     ...             0             1             0             0          0   \n",
       "1     ...             1             0             0             0          1   \n",
       "2     ...             1             0             0             0          0   \n",
       "3     ...             0             1             0             0          0   \n",
       "4     ...             0             0             0             0          1   \n",
       "...   ...           ...           ...           ...           ...        ...   \n",
       "8119  ...             0             0             0             0          0   \n",
       "8120  ...             0             0             1             0          0   \n",
       "8121  ...             0             0             0             0          0   \n",
       "8122  ...             0             0             1             0          0   \n",
       "8123  ...             0             0             0             0          0   \n",
       "\n",
       "      habitat_l  habitat_m  habitat_p  habitat_u  habitat_w  \n",
       "0             0          0          0          1          0  \n",
       "1             0          0          0          0          0  \n",
       "2             0          1          0          0          0  \n",
       "3             0          0          0          1          0  \n",
       "4             0          0          0          0          0  \n",
       "...         ...        ...        ...        ...        ...  \n",
       "8119          1          0          0          0          0  \n",
       "8120          1          0          0          0          0  \n",
       "8121          1          0          0          0          0  \n",
       "8122          1          0          0          0          0  \n",
       "8123          1          0          0          0          0  \n",
       "\n",
       "[8124 rows x 96 columns]"
      ]
     },
     "execution_count": 114,
     "metadata": {},
     "output_type": "execute_result"
    }
   ],
   "source": [
    "df_obj"
   ]
  },
  {
   "cell_type": "code",
   "execution_count": 115,
   "id": "d9874eee",
   "metadata": {},
   "outputs": [
    {
     "data": {
      "text/plain": [
       "(8124, 96)"
      ]
     },
     "execution_count": 115,
     "metadata": {},
     "output_type": "execute_result"
    }
   ],
   "source": [
    "#df = df_obj\n",
    "df.shape"
   ]
  },
  {
   "cell_type": "markdown",
   "id": "bc6969be",
   "metadata": {},
   "source": [
    "# Step3: X, y"
   ]
  },
  {
   "cell_type": "code",
   "execution_count": 116,
   "id": "1e341000",
   "metadata": {},
   "outputs": [],
   "source": [
    "X = df.drop('class_p', axis=1)\n",
    "y = df['class_p']"
   ]
  },
  {
   "cell_type": "markdown",
   "id": "dc5557e0",
   "metadata": {},
   "source": [
    "# Step4: Split the Data to Train & Test"
   ]
  },
  {
   "cell_type": "code",
   "execution_count": 117,
   "id": "90bfa293",
   "metadata": {},
   "outputs": [],
   "source": [
    "X_train, X_test, y_train, y_test = train_test_split(X, y, test_size=0.3, random_state=42)"
   ]
  },
  {
   "cell_type": "markdown",
   "id": "a49062cb",
   "metadata": {},
   "source": [
    "# Step5: Scaling the Features"
   ]
  },
  {
   "cell_type": "code",
   "execution_count": 118,
   "id": "3973a4bd",
   "metadata": {},
   "outputs": [],
   "source": [
    "def ScaleData(x_train, x_test):\n",
    "    Scalar = StandardScaler()    \n",
    "    \n",
    "    Scalar.fit(x_train)\n",
    "    \n",
    "    S_x_train = Scalar.transform(x_train)\n",
    "    S_x_test = Scalar.transform(x_test)\n",
    "    \n",
    "    return S_x_train , S_x_test"
   ]
  },
  {
   "cell_type": "code",
   "execution_count": 119,
   "id": "4b2c87fa",
   "metadata": {},
   "outputs": [],
   "source": [
    "S_X_train, S_X_test= ScaleData(X_train, X_test)"
   ]
  },
  {
   "cell_type": "code",
   "execution_count": 120,
   "id": "c7767aa3",
   "metadata": {},
   "outputs": [
    {
     "data": {
      "text/plain": [
       "((5686, 95), (2438, 95))"
      ]
     },
     "execution_count": 120,
     "metadata": {},
     "output_type": "execute_result"
    }
   ],
   "source": [
    "S_X_train.shape , S_X_test.shape"
   ]
  },
  {
   "cell_type": "markdown",
   "id": "f9ca4696",
   "metadata": {},
   "source": [
    "# Step6: KNN"
   ]
  },
  {
   "cell_type": "markdown",
   "id": "3c158756",
   "metadata": {},
   "source": [
    "## Creat the Model"
   ]
  },
  {
   "cell_type": "code",
   "execution_count": 121,
   "id": "660260a6",
   "metadata": {},
   "outputs": [],
   "source": [
    "KNN_model = KNeighborsClassifier(n_neighbors=1, weights='distance' , metric='minkowski', p=2)"
   ]
  },
  {
   "cell_type": "markdown",
   "id": "9c3189b2",
   "metadata": {},
   "source": [
    "## Train the Model"
   ]
  },
  {
   "cell_type": "code",
   "execution_count": 122,
   "id": "9a877438",
   "metadata": {},
   "outputs": [
    {
     "data": {
      "text/plain": [
       "KNeighborsClassifier(n_neighbors=1, weights='distance')"
      ]
     },
     "execution_count": 122,
     "metadata": {},
     "output_type": "execute_result"
    }
   ],
   "source": [
    "KNN_model.fit(S_X_train, y_train)    "
   ]
  },
  {
   "cell_type": "markdown",
   "id": "ed1710d5",
   "metadata": {},
   "source": [
    "##  Prediction & Evaluation\n",
    "<hr>\n",
    "print classification report"
   ]
  },
  {
   "cell_type": "code",
   "execution_count": 123,
   "id": "e68a99a1",
   "metadata": {},
   "outputs": [
    {
     "data": {
      "text/plain": [
       "array([0, 1, 1, ..., 1, 0, 0], dtype=uint8)"
      ]
     },
     "execution_count": 123,
     "metadata": {},
     "output_type": "execute_result"
    }
   ],
   "source": [
    "y_pred = KNN_model.predict(S_X_test)\n",
    "y_pred"
   ]
  },
  {
   "cell_type": "code",
   "execution_count": 124,
   "id": "9346cda1",
   "metadata": {},
   "outputs": [
    {
     "data": {
      "text/plain": [
       "1.0"
      ]
     },
     "execution_count": 124,
     "metadata": {},
     "output_type": "execute_result"
    }
   ],
   "source": [
    "accuracy_score(y_test, y_pred)"
   ]
  },
  {
   "cell_type": "code",
   "execution_count": 125,
   "id": "ddc8378c",
   "metadata": {},
   "outputs": [
    {
     "data": {
      "text/plain": [
       "array([[1257,    0],\n",
       "       [   0, 1181]], dtype=int64)"
      ]
     },
     "execution_count": 125,
     "metadata": {},
     "output_type": "execute_result"
    }
   ],
   "source": [
    "confusion_matrix(y_test, y_pred)"
   ]
  },
  {
   "cell_type": "code",
   "execution_count": 126,
   "id": "baaf87d7",
   "metadata": {},
   "outputs": [
    {
     "name": "stdout",
     "output_type": "stream",
     "text": [
      "              precision    recall  f1-score   support\n",
      "\n",
      "           0       1.00      1.00      1.00      1257\n",
      "           1       1.00      1.00      1.00      1181\n",
      "\n",
      "    accuracy                           1.00      2438\n",
      "   macro avg       1.00      1.00      1.00      2438\n",
      "weighted avg       1.00      1.00      1.00      2438\n",
      "\n"
     ]
    }
   ],
   "source": [
    "print(classification_report(y_test, y_pred))"
   ]
  },
  {
   "cell_type": "markdown",
   "id": "9e46fc7a",
   "metadata": {},
   "source": [
    "# Step7: Elbow Method for Choosing Reasonable K Values"
   ]
  },
  {
   "cell_type": "code",
   "execution_count": 127,
   "id": "21b0772c",
   "metadata": {},
   "outputs": [],
   "source": [
    "def ShowBestKNN(s_x_train, y__train, s_x_test, y__test):\n",
    "    error = []\n",
    "\n",
    "    for k  in range(1, 30):\n",
    "        KNN_model = KNeighborsClassifier(n_neighbors=k, weights='distance', metric='minkowski', p=2)\n",
    "\n",
    "        KNN_model.fit(s_x_train, y__train)\n",
    "\n",
    "        y_pred = KNN_model.predict(s_x_test)\n",
    "\n",
    "        test_error = 1- accuracy_score(y__test, y_pred)\n",
    "\n",
    "        error.append(test_error)\n",
    "        \n",
    "    plt.figure(figsize=(12, 6))\n",
    "    plt.plot(error)\n",
    "\n",
    "    plt.xticks(np.arange(1,30 ,1))\n",
    "    plt.show()"
   ]
  },
  {
   "cell_type": "code",
   "execution_count": 128,
   "id": "2681ac84",
   "metadata": {},
   "outputs": [
    {
     "data": {
      "image/png": "[encoded data removed]",
      "text/plain": [
       "<Figure size 864x432 with 1 Axes>"
      ]
     },
     "metadata": {
      "needs_background": "light"
     },
     "output_type": "display_data"
    }
   ],
   "source": [
    "ShowBestKNN(S_X_train, y_train, S_X_test, y_test)"
   ]
  },
  {
   "cell_type": "markdown",
   "id": "7cb8ef5f",
   "metadata": {},
   "source": [
    "# Step8: Creating a Pipeline to find K value"
   ]
  },
  {
   "cell_type": "code",
   "execution_count": 35,
   "id": "17845c0a",
   "metadata": {},
   "outputs": [],
   "source": [
    "scaler = StandardScaler()\n",
    "knn = KNeighborsClassifier()\n",
    "operatin = [('scaler', scaler), ('knn', knn)]"
   ]
  },
  {
   "cell_type": "code",
   "execution_count": 36,
   "id": "5384dfc3",
   "metadata": {},
   "outputs": [],
   "source": [
    "pipe = Pipeline(operatin)"
   ]
  },
  {
   "cell_type": "code",
   "execution_count": 37,
   "id": "6395df1e",
   "metadata": {},
   "outputs": [
    {
     "data": {
      "text/plain": [
       "GridSearchCV(cv=7,\n",
       "             estimator=Pipeline(steps=[('scaler', StandardScaler()),\n",
       "                                       ('knn', KNeighborsClassifier())]),\n",
       "             param_grid={'knn__n_neighbors': [1, 2, 3, 4, 5, 6, 7, 8, 9, 10, 11,\n",
       "                                              12, 13, 14, 15, 16, 17, 18, 19,\n",
       "                                              20, 21, 22, 23, 24, 25, 26, 27,\n",
       "                                              28, 29]},\n",
       "             scoring='accuracy')"
      ]
     },
     "execution_count": 37,
     "metadata": {},
     "output_type": "execute_result"
    }
   ],
   "source": [
    "K_Value = list(range(1,30))\n",
    "\n",
    "p_grid = {'knn__n_neighbors': K_Value}\n",
    "\n",
    "CV_grid = GridSearchCV(pipe, p_grid, cv = 7, scoring='accuracy')\n",
    "\n",
    "CV_grid.fit(X,y)"
   ]
  },
  {
   "cell_type": "code",
   "execution_count": 38,
   "id": "604e422a",
   "metadata": {},
   "outputs": [
    {
     "data": {
      "text/plain": [
       "{'cv': 7,\n",
       " 'error_score': nan,\n",
       " 'estimator__memory': None,\n",
       " 'estimator__steps': [('scaler', StandardScaler()),\n",
       "  ('knn', KNeighborsClassifier())],\n",
       " 'estimator__verbose': False,\n",
       " 'estimator__scaler': StandardScaler(),\n",
       " 'estimator__knn': KNeighborsClassifier(),\n",
       " 'estimator__scaler__copy': True,\n",
       " 'estimator__scaler__with_mean': True,\n",
       " 'estimator__scaler__with_std': True,\n",
       " 'estimator__knn__algorithm': 'auto',\n",
       " 'estimator__knn__leaf_size': 30,\n",
       " 'estimator__knn__metric': 'minkowski',\n",
       " 'estimator__knn__metric_params': None,\n",
       " 'estimator__knn__n_jobs': None,\n",
       " 'estimator__knn__n_neighbors': 5,\n",
       " 'estimator__knn__p': 2,\n",
       " 'estimator__knn__weights': 'uniform',\n",
       " 'estimator': Pipeline(steps=[('scaler', StandardScaler()), ('knn', KNeighborsClassifier())]),\n",
       " 'n_jobs': None,\n",
       " 'param_grid': {'knn__n_neighbors': [1,\n",
       "   2,\n",
       "   3,\n",
       "   4,\n",
       "   5,\n",
       "   6,\n",
       "   7,\n",
       "   8,\n",
       "   9,\n",
       "   10,\n",
       "   11,\n",
       "   12,\n",
       "   13,\n",
       "   14,\n",
       "   15,\n",
       "   16,\n",
       "   17,\n",
       "   18,\n",
       "   19,\n",
       "   20,\n",
       "   21,\n",
       "   22,\n",
       "   23,\n",
       "   24,\n",
       "   25,\n",
       "   26,\n",
       "   27,\n",
       "   28,\n",
       "   29]},\n",
       " 'pre_dispatch': '2*n_jobs',\n",
       " 'refit': True,\n",
       " 'return_train_score': False,\n",
       " 'scoring': 'accuracy',\n",
       " 'verbose': 0}"
      ]
     },
     "execution_count": 38,
     "metadata": {},
     "output_type": "execute_result"
    }
   ],
   "source": [
    "CV_grid.get_params()"
   ]
  },
  {
   "cell_type": "markdown",
   "id": "4a7c5b81",
   "metadata": {},
   "source": [
    "# Challenge"
   ]
  },
  {
   "cell_type": "markdown",
   "id": "1c18e2bd",
   "metadata": {},
   "source": [
    "### Step0: Import all Necessary Libraries"
   ]
  },
  {
   "cell_type": "code",
   "execution_count": 129,
   "id": "d3c7cf7a",
   "metadata": {},
   "outputs": [],
   "source": [
    "import numpy as np\n",
    "from scipy.stats import mode\n",
    "import matplotlib.pyplot as plt\n",
    "import pandas as pd\n",
    "\n",
    "import statistics\n",
    "import math\n",
    "\n",
    "from sklearn.metrics import accuracy_score\n",
    "from sklearn.datasets import load_iris\n",
    "from sklearn.datasets import load_breast_cancer\n",
    "from sklearn.model_selection import train_test_split"
   ]
  },
  {
   "cell_type": "markdown",
   "id": "010f8ceb",
   "metadata": {},
   "source": [
    "### Step1: Import the Dataset"
   ]
  },
  {
   "cell_type": "code",
   "execution_count": 130,
   "id": "3f060f29",
   "metadata": {},
   "outputs": [],
   "source": [
    "cancer = load_breast_cancer()\n",
    "\n",
    "data = np.c_[cancer.data, cancer.target]\n",
    "columns = np.append(cancer.feature_names, [\"target\"])\n",
    "df = pd.DataFrame(data, columns=columns)"
   ]
  },
  {
   "cell_type": "markdown",
   "id": "292017f4",
   "metadata": {},
   "source": [
    "### Step2: Data Overview\n"
   ]
  },
  {
   "cell_type": "code",
   "execution_count": 131,
   "id": "2d85185b",
   "metadata": {},
   "outputs": [
    {
     "data": {
      "text/html": [
       "<div>\n",
       "<style scoped>\n",
       "    .dataframe tbody tr th:only-of-type {\n",
       "        vertical-align: middle;\n",
       "    }\n",
       "\n",
       "    .dataframe tbody tr th {\n",
       "        vertical-align: top;\n",
       "    }\n",
       "\n",
       "    .dataframe thead th {\n",
       "        text-align: right;\n",
       "    }\n",
       "</style>\n",
       "<table border=\"1\" class=\"dataframe\">\n",
       "  <thead>\n",
       "    <tr style=\"text-align: right;\">\n",
       "      <th></th>\n",
       "      <th>mean radius</th>\n",
       "      <th>mean texture</th>\n",
       "      <th>mean perimeter</th>\n",
       "      <th>mean area</th>\n",
       "      <th>mean smoothness</th>\n",
       "      <th>mean compactness</th>\n",
       "      <th>mean concavity</th>\n",
       "      <th>mean concave points</th>\n",
       "      <th>mean symmetry</th>\n",
       "      <th>mean fractal dimension</th>\n",
       "      <th>...</th>\n",
       "      <th>worst texture</th>\n",
       "      <th>worst perimeter</th>\n",
       "      <th>worst area</th>\n",
       "      <th>worst smoothness</th>\n",
       "      <th>worst compactness</th>\n",
       "      <th>worst concavity</th>\n",
       "      <th>worst concave points</th>\n",
       "      <th>worst symmetry</th>\n",
       "      <th>worst fractal dimension</th>\n",
       "      <th>target</th>\n",
       "    </tr>\n",
       "  </thead>\n",
       "  <tbody>\n",
       "    <tr>\n",
       "      <th>0</th>\n",
       "      <td>17.99</td>\n",
       "      <td>10.38</td>\n",
       "      <td>122.80</td>\n",
       "      <td>1001.0</td>\n",
       "      <td>0.11840</td>\n",
       "      <td>0.27760</td>\n",
       "      <td>0.3001</td>\n",
       "      <td>0.14710</td>\n",
       "      <td>0.2419</td>\n",
       "      <td>0.07871</td>\n",
       "      <td>...</td>\n",
       "      <td>17.33</td>\n",
       "      <td>184.60</td>\n",
       "      <td>2019.0</td>\n",
       "      <td>0.1622</td>\n",
       "      <td>0.6656</td>\n",
       "      <td>0.7119</td>\n",
       "      <td>0.2654</td>\n",
       "      <td>0.4601</td>\n",
       "      <td>0.11890</td>\n",
       "      <td>0.0</td>\n",
       "    </tr>\n",
       "    <tr>\n",
       "      <th>1</th>\n",
       "      <td>20.57</td>\n",
       "      <td>17.77</td>\n",
       "      <td>132.90</td>\n",
       "      <td>1326.0</td>\n",
       "      <td>0.08474</td>\n",
       "      <td>0.07864</td>\n",
       "      <td>0.0869</td>\n",
       "      <td>0.07017</td>\n",
       "      <td>0.1812</td>\n",
       "      <td>0.05667</td>\n",
       "      <td>...</td>\n",
       "      <td>23.41</td>\n",
       "      <td>158.80</td>\n",
       "      <td>1956.0</td>\n",
       "      <td>0.1238</td>\n",
       "      <td>0.1866</td>\n",
       "      <td>0.2416</td>\n",
       "      <td>0.1860</td>\n",
       "      <td>0.2750</td>\n",
       "      <td>0.08902</td>\n",
       "      <td>0.0</td>\n",
       "    </tr>\n",
       "    <tr>\n",
       "      <th>2</th>\n",
       "      <td>19.69</td>\n",
       "      <td>21.25</td>\n",
       "      <td>130.00</td>\n",
       "      <td>1203.0</td>\n",
       "      <td>0.10960</td>\n",
       "      <td>0.15990</td>\n",
       "      <td>0.1974</td>\n",
       "      <td>0.12790</td>\n",
       "      <td>0.2069</td>\n",
       "      <td>0.05999</td>\n",
       "      <td>...</td>\n",
       "      <td>25.53</td>\n",
       "      <td>152.50</td>\n",
       "      <td>1709.0</td>\n",
       "      <td>0.1444</td>\n",
       "      <td>0.4245</td>\n",
       "      <td>0.4504</td>\n",
       "      <td>0.2430</td>\n",
       "      <td>0.3613</td>\n",
       "      <td>0.08758</td>\n",
       "      <td>0.0</td>\n",
       "    </tr>\n",
       "    <tr>\n",
       "      <th>3</th>\n",
       "      <td>11.42</td>\n",
       "      <td>20.38</td>\n",
       "      <td>77.58</td>\n",
       "      <td>386.1</td>\n",
       "      <td>0.14250</td>\n",
       "      <td>0.28390</td>\n",
       "      <td>0.2414</td>\n",
       "      <td>0.10520</td>\n",
       "      <td>0.2597</td>\n",
       "      <td>0.09744</td>\n",
       "      <td>...</td>\n",
       "      <td>26.50</td>\n",
       "      <td>98.87</td>\n",
       "      <td>567.7</td>\n",
       "      <td>0.2098</td>\n",
       "      <td>0.8663</td>\n",
       "      <td>0.6869</td>\n",
       "      <td>0.2575</td>\n",
       "      <td>0.6638</td>\n",
       "      <td>0.17300</td>\n",
       "      <td>0.0</td>\n",
       "    </tr>\n",
       "    <tr>\n",
       "      <th>4</th>\n",
       "      <td>20.29</td>\n",
       "      <td>14.34</td>\n",
       "      <td>135.10</td>\n",
       "      <td>1297.0</td>\n",
       "      <td>0.10030</td>\n",
       "      <td>0.13280</td>\n",
       "      <td>0.1980</td>\n",
       "      <td>0.10430</td>\n",
       "      <td>0.1809</td>\n",
       "      <td>0.05883</td>\n",
       "      <td>...</td>\n",
       "      <td>16.67</td>\n",
       "      <td>152.20</td>\n",
       "      <td>1575.0</td>\n",
       "      <td>0.1374</td>\n",
       "      <td>0.2050</td>\n",
       "      <td>0.4000</td>\n",
       "      <td>0.1625</td>\n",
       "      <td>0.2364</td>\n",
       "      <td>0.07678</td>\n",
       "      <td>0.0</td>\n",
       "    </tr>\n",
       "  </tbody>\n",
       "</table>\n",
       "<p>5 rows × 31 columns</p>\n",
       "</div>"
      ],
      "text/plain": [
       "   mean radius  mean texture  mean perimeter  mean area  mean smoothness  \\\n",
       "0        17.99         10.38          122.80     1001.0          0.11840   \n",
       "1        20.57         17.77          132.90     1326.0          0.08474   \n",
       "2        19.69         21.25          130.00     1203.0          0.10960   \n",
       "3        11.42         20.38           77.58      386.1          0.14250   \n",
       "4        20.29         14.34          135.10     1297.0          0.10030   \n",
       "\n",
       "   mean compactness  mean concavity  mean concave points  mean symmetry  \\\n",
       "0           0.27760          0.3001              0.14710         0.2419   \n",
       "1           0.07864          0.0869              0.07017         0.1812   \n",
       "2           0.15990          0.1974              0.12790         0.2069   \n",
       "3           0.28390          0.2414              0.10520         0.2597   \n",
       "4           0.13280          0.1980              0.10430         0.1809   \n",
       "\n",
       "   mean fractal dimension  ...  worst texture  worst perimeter  worst area  \\\n",
       "0                 0.07871  ...          17.33           184.60      2019.0   \n",
       "1                 0.05667  ...          23.41           158.80      1956.0   \n",
       "2                 0.05999  ...          25.53           152.50      1709.0   \n",
       "3                 0.09744  ...          26.50            98.87       567.7   \n",
       "4                 0.05883  ...          16.67           152.20      1575.0   \n",
       "\n",
       "   worst smoothness  worst compactness  worst concavity  worst concave points  \\\n",
       "0            0.1622             0.6656           0.7119                0.2654   \n",
       "1            0.1238             0.1866           0.2416                0.1860   \n",
       "2            0.1444             0.4245           0.4504                0.2430   \n",
       "3            0.2098             0.8663           0.6869                0.2575   \n",
       "4            0.1374             0.2050           0.4000                0.1625   \n",
       "\n",
       "   worst symmetry  worst fractal dimension  target  \n",
       "0          0.4601                  0.11890     0.0  \n",
       "1          0.2750                  0.08902     0.0  \n",
       "2          0.3613                  0.08758     0.0  \n",
       "3          0.6638                  0.17300     0.0  \n",
       "4          0.2364                  0.07678     0.0  \n",
       "\n",
       "[5 rows x 31 columns]"
      ]
     },
     "execution_count": 131,
     "metadata": {},
     "output_type": "execute_result"
    }
   ],
   "source": [
    "df.head()"
   ]
  },
  {
   "cell_type": "code",
   "execution_count": 132,
   "id": "45bea902",
   "metadata": {},
   "outputs": [
    {
     "name": "stdout",
     "output_type": "stream",
     "text": [
      "<class 'pandas.core.frame.DataFrame'>\n",
      "RangeIndex: 569 entries, 0 to 568\n",
      "Data columns (total 31 columns):\n",
      " #   Column                   Non-Null Count  Dtype  \n",
      "---  ------                   --------------  -----  \n",
      " 0   mean radius              569 non-null    float64\n",
      " 1   mean texture             569 non-null    float64\n",
      " 2   mean perimeter           569 non-null    float64\n",
      " 3   mean area                569 non-null    float64\n",
      " 4   mean smoothness          569 non-null    float64\n",
      " 5   mean compactness         569 non-null    float64\n",
      " 6   mean concavity           569 non-null    float64\n",
      " 7   mean concave points      569 non-null    float64\n",
      " 8   mean symmetry            569 non-null    float64\n",
      " 9   mean fractal dimension   569 non-null    float64\n",
      " 10  radius error             569 non-null    float64\n",
      " 11  texture error            569 non-null    float64\n",
      " 12  perimeter error          569 non-null    float64\n",
      " 13  area error               569 non-null    float64\n",
      " 14  smoothness error         569 non-null    float64\n",
      " 15  compactness error        569 non-null    float64\n",
      " 16  concavity error          569 non-null    float64\n",
      " 17  concave points error     569 non-null    float64\n",
      " 18  symmetry error           569 non-null    float64\n",
      " 19  fractal dimension error  569 non-null    float64\n",
      " 20  worst radius             569 non-null    float64\n",
      " 21  worst texture            569 non-null    float64\n",
      " 22  worst perimeter          569 non-null    float64\n",
      " 23  worst area               569 non-null    float64\n",
      " 24  worst smoothness         569 non-null    float64\n",
      " 25  worst compactness        569 non-null    float64\n",
      " 26  worst concavity          569 non-null    float64\n",
      " 27  worst concave points     569 non-null    float64\n",
      " 28  worst symmetry           569 non-null    float64\n",
      " 29  worst fractal dimension  569 non-null    float64\n",
      " 30  target                   569 non-null    float64\n",
      "dtypes: float64(31)\n",
      "memory usage: 137.9 KB\n"
     ]
    }
   ],
   "source": [
    "df.info()"
   ]
  },
  {
   "cell_type": "markdown",
   "id": "cb3a6fb7",
   "metadata": {},
   "source": [
    "### Step3: X & y\n"
   ]
  },
  {
   "cell_type": "code",
   "execution_count": 133,
   "id": "f83bd3c7",
   "metadata": {},
   "outputs": [],
   "source": [
    "df['target'] = df['target'].astype(int)\n",
    "\n",
    "X = df.drop('target', axis=1)\n",
    "y = df['target']\n",
    "\n",
    "#X = cancer.data\n",
    "#y = cancer.target\n",
    "y = np.array(y)\n",
    "X= np.array(X)\n"
   ]
  },
  {
   "cell_type": "markdown",
   "id": "2621ba64",
   "metadata": {},
   "source": [
    "### Step4: Split the Data to Train & Test"
   ]
  },
  {
   "cell_type": "code",
   "execution_count": 134,
   "id": "7659629d",
   "metadata": {},
   "outputs": [],
   "source": [
    "X_train, X_test, y_train, y_test = train_test_split(X, y, test_size=0.2, random_state=42)"
   ]
  },
  {
   "cell_type": "markdown",
   "id": "41d3fda1",
   "metadata": {},
   "source": [
    "### Step5: Scaling the Features"
   ]
  },
  {
   "cell_type": "code",
   "execution_count": 135,
   "id": "7e2e1e45",
   "metadata": {},
   "outputs": [],
   "source": [
    "s_X_train, s_X_test = ScaleData(X_train, X_test)"
   ]
  },
  {
   "cell_type": "markdown",
   "id": "025d0802",
   "metadata": {},
   "source": [
    "### Step8: Distance Function"
   ]
  },
  {
   "cell_type": "code",
   "execution_count": 136,
   "id": "103ac867",
   "metadata": {},
   "outputs": [
    {
     "data": {
      "text/plain": [
       "array([ 1.36536344,  0.49866473,  1.30551088,  1.34147086, -0.40653902,\n",
       "       -0.0137241 ,  0.24063659,  0.82144876, -0.83398079, -1.13121527,\n",
       "        1.36745547, -0.74874907,  1.27009847,  1.18638199, -0.83350144,\n",
       "       -0.49043919, -0.31559   ,  0.28726031, -0.82243534, -0.76235747,\n",
       "        1.79461875,  0.17237239,  1.76366112,  1.7441412 , -0.53051417,\n",
       "       -0.12362004, -0.02818105,  0.99177862, -0.561211  , -1.00838949])"
      ]
     },
     "execution_count": 136,
     "metadata": {},
     "output_type": "execute_result"
    }
   ],
   "source": [
    "A = s_X_test[1, :]\n",
    "B = s_X_train[1, :]\n",
    "A"
   ]
  },
  {
   "cell_type": "code",
   "execution_count": 137,
   "id": "ac4b35f4",
   "metadata": {},
   "outputs": [
    {
     "data": {
      "text/plain": [
       "array([ 1.97409619,  1.73302577,  2.09167167,  1.85197292,  1.319843  ,\n",
       "        3.42627493,  2.01311199,  2.66503199,  2.1270036 ,  1.55839569,\n",
       "        0.80531919, -0.81268678,  0.75195659,  0.87716951, -0.89605315,\n",
       "        1.18122247,  0.18362761,  0.60059598, -0.31771686,  0.52963649,\n",
       "        2.17331385,  1.3112795 ,  2.08161691,  2.1374055 ,  0.76192793,\n",
       "        3.26560084,  1.92862053,  2.6989469 ,  1.89116053,  2.49783848])"
      ]
     },
     "execution_count": 137,
     "metadata": {},
     "output_type": "execute_result"
    }
   ],
   "source": [
    "B"
   ]
  },
  {
   "cell_type": "code",
   "execution_count": 138,
   "id": "bda92e09",
   "metadata": {},
   "outputs": [],
   "source": [
    "def MinKowski(p1, p2, p):\n",
    "    dis = math.pow(np.sum(np.abs(p1-p2)**p),1/p)\n",
    "    return dis"
   ]
  },
  {
   "cell_type": "code",
   "execution_count": 139,
   "id": "890f8f7b",
   "metadata": {},
   "outputs": [],
   "source": [
    "def eucledian(p1, p2):\n",
    "    dis = np.sqrt(np.sum((p1-p2)**2))\n",
    "    return dis"
   ]
  },
  {
   "cell_type": "code",
   "execution_count": 140,
   "id": "c0ac4ebe",
   "metadata": {},
   "outputs": [
    {
     "data": {
      "text/plain": [
       "6.09411052586609"
      ]
     },
     "execution_count": 140,
     "metadata": {},
     "output_type": "execute_result"
    }
   ],
   "source": [
    "MinK = MinKowski(A, B, 3)\n",
    "MinK"
   ]
  },
  {
   "cell_type": "code",
   "execution_count": 141,
   "id": "ab75be9e",
   "metadata": {},
   "outputs": [
    {
     "data": {
      "text/plain": [
       "9.262150397422202"
      ]
     },
     "execution_count": 141,
     "metadata": {},
     "output_type": "execute_result"
    }
   ],
   "source": [
    "euclidean = MinKowski(A, B, 2)\n",
    "euclidean"
   ]
  },
  {
   "cell_type": "code",
   "execution_count": 142,
   "id": "d921bc40",
   "metadata": {},
   "outputs": [
    {
     "data": {
      "text/plain": [
       "9.262150397422202"
      ]
     },
     "execution_count": 142,
     "metadata": {},
     "output_type": "execute_result"
    }
   ],
   "source": [
    "eucledian(A, B)"
   ]
  },
  {
   "cell_type": "code",
   "execution_count": 143,
   "id": "4428afe7",
   "metadata": {},
   "outputs": [
    {
     "data": {
      "text/plain": [
       "39.902753742752445"
      ]
     },
     "execution_count": 143,
     "metadata": {},
     "output_type": "execute_result"
    }
   ],
   "source": [
    "CityBlock = MinKowski(A, B, 1)\n",
    "CityBlock"
   ]
  },
  {
   "cell_type": "code",
   "execution_count": 144,
   "id": "b7c63d47",
   "metadata": {},
   "outputs": [
    {
     "data": {
      "text/plain": [
       "39.902753742752445"
      ]
     },
     "execution_count": 144,
     "metadata": {},
     "output_type": "execute_result"
    }
   ],
   "source": [
    "Manhattan = MinKowski(A, B, 1)\n",
    "Manhattan"
   ]
  },
  {
   "cell_type": "code",
   "execution_count": 145,
   "id": "4a4ebdcb",
   "metadata": {},
   "outputs": [],
   "source": [
    "def CityBlock(p1, p2):\n",
    "    dis = np.sum(np.abs(p1-p2))\n",
    "    return dis"
   ]
  },
  {
   "cell_type": "code",
   "execution_count": 146,
   "id": "1e23edeb",
   "metadata": {},
   "outputs": [
    {
     "data": {
      "text/plain": [
       "39.902753742752445"
      ]
     },
     "execution_count": 146,
     "metadata": {},
     "output_type": "execute_result"
    }
   ],
   "source": [
    "CityBlock(A, B)"
   ]
  },
  {
   "cell_type": "code",
   "execution_count": 147,
   "id": "ce7c80aa",
   "metadata": {},
   "outputs": [],
   "source": [
    "def Chebychev(p1, p2):\n",
    "    dis = MinKowski(A, B, 200)    \n",
    "    return dis"
   ]
  },
  {
   "cell_type": "code",
   "execution_count": 148,
   "id": "1f79a112",
   "metadata": {},
   "outputs": [
    {
     "data": {
      "text/plain": [
       "3.506629873318485"
      ]
     },
     "execution_count": 148,
     "metadata": {},
     "output_type": "execute_result"
    }
   ],
   "source": [
    "Chebychev(A, B)"
   ]
  },
  {
   "cell_type": "code",
   "execution_count": 149,
   "id": "f5c84ddd",
   "metadata": {},
   "outputs": [],
   "source": [
    "def Cosine(p1, p2):\n",
    "    e1 = np.dot(p1 , p2)\n",
    "    \n",
    "    e2 = np.dot(p1 , p1)    \n",
    "    \n",
    "    e3 = np.dot(p2 , p2)    \n",
    "    \n",
    "    Cosin = e1 / np.sqrt(e2 * e3)\n",
    "    \n",
    "    dis = 1 - Cosin \n",
    "    \n",
    "    return dis "
   ]
  },
  {
   "cell_type": "code",
   "execution_count": 150,
   "id": "f6013fd2",
   "metadata": {},
   "outputs": [
    {
     "data": {
      "text/plain": [
       "0.6053897226403869"
      ]
     },
     "execution_count": 150,
     "metadata": {},
     "output_type": "execute_result"
    }
   ],
   "source": [
    "Cosine(A, B)"
   ]
  },
  {
   "cell_type": "code",
   "execution_count": 151,
   "id": "6f252a62",
   "metadata": {},
   "outputs": [],
   "source": [
    "def corr(A, B):\n",
    "    A = pd.Series(A)\n",
    "    B= pd.Series(B)\n",
    "    \n",
    "    dis = 1- A.corr(B)\n",
    "    return dis"
   ]
  },
  {
   "cell_type": "code",
   "execution_count": 152,
   "id": "ec9ce746",
   "metadata": {},
   "outputs": [],
   "source": [
    "def corr2(A, B):\n",
    "    e1 = ((A-np.mean(A)).T/statistics.stdev(A))\n",
    "    \n",
    "    e2 = ((B-np.mean(B))/statistics.stdev(B))\n",
    "    \n",
    "    r = 1/(A.shape[0]-1) * np.sum(e1 *e2)\n",
    "    \n",
    "    dis = 1- r\n",
    "    return dis"
   ]
  },
  {
   "cell_type": "code",
   "execution_count": 153,
   "id": "46c95fde",
   "metadata": {},
   "outputs": [
    {
     "data": {
      "text/plain": [
       "0.6720661506592798"
      ]
     },
     "execution_count": 153,
     "metadata": {},
     "output_type": "execute_result"
    }
   ],
   "source": [
    "corr(A, B)"
   ]
  },
  {
   "cell_type": "code",
   "execution_count": 154,
   "id": "08c7ea6a",
   "metadata": {},
   "outputs": [
    {
     "data": {
      "text/plain": [
       "0.6720661506592797"
      ]
     },
     "execution_count": 154,
     "metadata": {},
     "output_type": "execute_result"
    }
   ],
   "source": [
    "corr2(A, B)"
   ]
  },
  {
   "cell_type": "code",
   "execution_count": 69,
   "id": "c836c911",
   "metadata": {},
   "outputs": [],
   "source": [
    "def Distance_Complete(p1 , p2):\n",
    "    \n",
    "    while True:\n",
    "\n",
    "        dis = 0 \n",
    "        c = input('Which Criterion E(Euclidean)/M(Manhattan)/V(chebychev)/K(MinKowski)/C(Cosine)/R(Correlation)/Enter break):')\n",
    "\n",
    "        if c == 'E' or c == 'Euclidean' or c == '2':\n",
    "            dis = MinKowski(p1, p2, 2)\n",
    "        elif c == 'M' or c == 'Manhattan' or c == '1':\n",
    "            dis = MinKowski(p1, p2, 1)\n",
    "        elif c == 'V' or c == 'chebychev' or c == '1':\n",
    "            dis = MinKowski(p1, p2, 100)\n",
    "        elif c == 'K' or c == 'MinKowski':\n",
    "            dis = MinKowski(p1, p2, 4)\n",
    "        elif c == 'C' or c == 'Cosine':\n",
    "            dis = Cosine(p1, p2)\n",
    "        elif c == 'R' or c == 'Correlation':\n",
    "            dis = corr(p1, p2)\n",
    "        elif c == 'break':\n",
    "            break\n",
    "        else:\n",
    "            print('Error')\n",
    "            continue\n",
    "\n",
    "        print(dis) \n",
    "        \n",
    "    return dis "
   ]
  },
  {
   "cell_type": "code",
   "execution_count": 70,
   "id": "bc62dd78",
   "metadata": {},
   "outputs": [
    {
     "name": "stdout",
     "output_type": "stream",
     "text": [
      "Which Criterion E(Euclidean)/M(Manhattan)/V(chebychev)/K(MinKowski)/C(Cosine)/R(Correlation)/Enter break):E\n",
      "9.262150397422202\n",
      "Which Criterion E(Euclidean)/M(Manhattan)/V(chebychev)/K(MinKowski)/C(Cosine)/R(Correlation)/Enter break):2\n",
      "9.262150397422202\n",
      "Which Criterion E(Euclidean)/M(Manhattan)/V(chebychev)/K(MinKowski)/C(Cosine)/R(Correlation)/Enter break):break\n"
     ]
    },
    {
     "data": {
      "text/plain": [
       "0"
      ]
     },
     "execution_count": 70,
     "metadata": {},
     "output_type": "execute_result"
    }
   ],
   "source": [
    "\n",
    "Distance_Complete(A, B)\n"
   ]
  },
  {
   "cell_type": "code",
   "execution_count": 155,
   "id": "ab2032a2",
   "metadata": {},
   "outputs": [],
   "source": [
    "def Distance_Compute(p1 , p2 , c):\n",
    "\n",
    "    dis = 0 \n",
    "\n",
    "    if c == 'E' or c == 'Euclidean' or c == '2':\n",
    "        dis = MinKowski(p1, p2, 2)\n",
    "    elif c == 'M' or c == 'Manhattan' or c == '1':\n",
    "        dis = MinKowski(p1, p2, 1)\n",
    "    elif c == 'V' or c == 'chebychev' or c == '50':\n",
    "        dis = MinKowski(p1, p2, 50)\n",
    "    elif c == 'K' or c == 'MinKowski' or c == '4':\n",
    "        dis = MinKowski(p1, p2, 4)\n",
    "    elif c == 'C' or c == 'Cosine':\n",
    "        dis = Cosine(p1, p2)\n",
    "    elif c == 'R' or c == 'Correlation':\n",
    "        dis = corr(p1, p2)\n",
    "    else:\n",
    "        print('Error')\n",
    " \n",
    "    return dis "
   ]
  },
  {
   "cell_type": "markdown",
   "id": "47922f9d",
   "metadata": {},
   "source": [
    "### Step6: KNN Scratch"
   ]
  },
  {
   "cell_type": "code",
   "execution_count": 156,
   "id": "fbdc9436",
   "metadata": {},
   "outputs": [],
   "source": [
    "def KNN_pred(x_train, y, x_test, k, p):\n",
    "    pred_l = []\n",
    "    for item in x_test:\n",
    "      \n",
    "        point_dis = []\n",
    "        for j in range(len(x_train)):\n",
    "            distance = Distance_Compute(np.array(x_train[j, :]), item, p)\n",
    "            \n",
    "            point_dis.append(distance)\n",
    "        point_dis = np.array(point_dis)\n",
    "        \n",
    "        dist = np.argsort(point_dis)[:k]\n",
    "        \n",
    "        labeles = y[dist]\n",
    "       \n",
    "        vote = mode(labeles)\n",
    "        \n",
    "        vote = vote.mode[0]\n",
    "        \n",
    "        pred_l.append(vote)\n",
    "    return pred_l"
   ]
  },
  {
   "cell_type": "code",
   "execution_count": 157,
   "id": "b1b91c4b",
   "metadata": {},
   "outputs": [
    {
     "data": {
      "text/plain": [
       "0.9473684210526315"
      ]
     },
     "execution_count": 157,
     "metadata": {},
     "output_type": "execute_result"
    }
   ],
   "source": [
    "y_pred = KNN_pred(s_X_train, y_train, s_X_test, 7, '2')\n",
    "accuracy_score(y_test, y_pred)"
   ]
  },
  {
   "cell_type": "code",
   "execution_count": 158,
   "id": "e18d8e91",
   "metadata": {},
   "outputs": [
    {
     "data": {
      "text/plain": [
       "0.956140350877193"
      ]
     },
     "execution_count": 158,
     "metadata": {},
     "output_type": "execute_result"
    }
   ],
   "source": [
    "y_pred = KNN_pred(X_train, y_train, X_test, 7, '2')\n",
    "accuracy_score(y_test, y_pred)"
   ]
  },
  {
   "cell_type": "markdown",
   "id": "3f7d8bad",
   "metadata": {},
   "source": [
    "### Step7: KNN Model Scikitlearn"
   ]
  },
  {
   "cell_type": "code",
   "execution_count": 99,
   "id": "074a8849",
   "metadata": {},
   "outputs": [
    {
     "data": {
      "image/png": "[encoded data removed]",
      "text/plain": [
       "<Figure size 864x432 with 1 Axes>"
      ]
     },
     "metadata": {
      "needs_background": "light"
     },
     "output_type": "display_data"
    }
   ],
   "source": [
    "ShowBestKNN(s_X_train, y_train, s_X_test, y_test) "
   ]
  },
  {
   "cell_type": "code",
   "execution_count": 100,
   "id": "6c36fbe6",
   "metadata": {},
   "outputs": [
    {
     "data": {
      "text/plain": [
       "0.9473684210526315"
      ]
     },
     "execution_count": 100,
     "metadata": {},
     "output_type": "execute_result"
    }
   ],
   "source": [
    "KNN_model = KNeighborsClassifier(n_neighbors=5, weights='distance' , metric='minkowski', p=2)\n",
    "KNN_model.fit(s_X_train, y_train)    \n",
    "y_pred = KNN_model.predict(s_X_test)\n",
    "\n",
    "accuracy_score(y_test, y_pred)\n"
   ]
  },
  {
   "cell_type": "code",
   "execution_count": 101,
   "id": "6ac33c39",
   "metadata": {},
   "outputs": [
    {
     "data": {
      "text/plain": [
       "0.956140350877193"
      ]
     },
     "execution_count": 101,
     "metadata": {},
     "output_type": "execute_result"
    }
   ],
   "source": [
    "KNN_model = KNeighborsClassifier(n_neighbors=5, weights='distance' , metric='minkowski', p=2)\n",
    "KNN_model.fit(X_train, y_train)    \n",
    "y_pred = KNN_model.predict(X_test)\n",
    "\n",
    "accuracy_score(y_test, y_pred)\n"
   ]
  },
  {
   "cell_type": "markdown",
   "id": "0ec353e2",
   "metadata": {},
   "source": [
    "### Step9: Deifferent Criteria for KNN Scratch"
   ]
  },
  {
   "cell_type": "markdown",
   "id": "e9d961aa",
   "metadata": {},
   "source": [
    "#### 1. Eucledian"
   ]
  },
  {
   "cell_type": "code",
   "execution_count": 88,
   "id": "5287f20c",
   "metadata": {},
   "outputs": [],
   "source": [
    "y_pred = KNN_pred(s_X_train, y_train, s_X_test, 7, '2')\n",
    "accuracy_score_Euclidean_Scaled = accuracy_score(y_test, y_pred)\n",
    "\n",
    "y_pred = KNN_pred(X_train, y_train, X_test, 7, '2')\n",
    "accuracy_score_Euclidean_Main = accuracy_score(y_test, y_pred)"
   ]
  },
  {
   "cell_type": "markdown",
   "id": "cdfc1fe8",
   "metadata": {},
   "source": [
    "#### 2. Manhattan"
   ]
  },
  {
   "cell_type": "code",
   "execution_count": 89,
   "id": "3ec704ca",
   "metadata": {},
   "outputs": [],
   "source": [
    "y_pred = KNN_pred(s_X_train, y_train, s_X_test, 7, '1')\n",
    "accuracy_score_Manhattan_Scaled = accuracy_score(y_test, y_pred)\n",
    "\n",
    "y_pred = KNN_pred(X_train, y_train, X_test, 7, '1')\n",
    "accuracy_score_Manhattan_Main = accuracy_score(y_test, y_pred)"
   ]
  },
  {
   "cell_type": "markdown",
   "id": "80857f24",
   "metadata": {},
   "source": [
    "#### 3. Chebychev"
   ]
  },
  {
   "cell_type": "code",
   "execution_count": 90,
   "id": "c0899935",
   "metadata": {},
   "outputs": [],
   "source": [
    "y_pred = KNN_pred(s_X_train, y_train, s_X_test, 7, 'V')\n",
    "accuracy_score_Chebychev_Scaled = accuracy_score(y_test, y_pred)\n",
    "\n",
    "y_pred = KNN_pred(X_train, y_train, X_test, 7, 'V')\n",
    "accuracy_score_Chebychev_Main = accuracy_score(y_test, y_pred)"
   ]
  },
  {
   "cell_type": "markdown",
   "id": "86f86020",
   "metadata": {},
   "source": [
    "#### 4. MinKowski"
   ]
  },
  {
   "cell_type": "code",
   "execution_count": 91,
   "id": "eceb07cf",
   "metadata": {},
   "outputs": [],
   "source": [
    "y_pred = KNN_pred(s_X_train, y_train, s_X_test, 7, 'K')\n",
    "accuracy_score_MinKowski_Scaled = accuracy_score(y_test, y_pred)\n",
    "\n",
    "y_pred = KNN_pred(X_train, y_train, X_test, 7, 'K')\n",
    "accuracy_score_MinKowski_Main = accuracy_score(y_test, y_pred)"
   ]
  },
  {
   "cell_type": "markdown",
   "id": "2c87d8e0",
   "metadata": {},
   "source": [
    "#### 5. Cosine"
   ]
  },
  {
   "cell_type": "code",
   "execution_count": 92,
   "id": "a79426e0",
   "metadata": {},
   "outputs": [],
   "source": [
    "y_pred = KNN_pred(s_X_train, y_train, s_X_test, 7, 'C')\n",
    "accuracy_score_Cosine_Scaled = accuracy_score(y_test, y_pred)\n",
    "\n",
    "y_pred = KNN_pred(X_train, y_train, X_test, 7, 'C')\n",
    "accuracy_score_Cosine_Main = accuracy_score(y_test, y_pred)"
   ]
  },
  {
   "cell_type": "markdown",
   "id": "031dbb08",
   "metadata": {},
   "source": [
    "#### 6. Correlation"
   ]
  },
  {
   "cell_type": "code",
   "execution_count": 93,
   "id": "68c3419a",
   "metadata": {},
   "outputs": [],
   "source": [
    "y_pred = KNN_pred(s_X_train, y_train, s_X_test, 7, 'R')\n",
    "accuracy_score_Correlation_Scaled = accuracy_score(y_test, y_pred)\n",
    "\n",
    "y_pred = KNN_pred(X_train, y_train, X_test, 7, 'R')\n",
    "accuracy_score_Correlation_Main = accuracy_score(y_test, y_pred)"
   ]
  },
  {
   "cell_type": "code",
   "execution_count": 102,
   "id": "adf7c9dc",
   "metadata": {},
   "outputs": [
    {
     "data": {
      "text/html": [
       "<div>\n",
       "<style scoped>\n",
       "    .dataframe tbody tr th:only-of-type {\n",
       "        vertical-align: middle;\n",
       "    }\n",
       "\n",
       "    .dataframe tbody tr th {\n",
       "        vertical-align: top;\n",
       "    }\n",
       "\n",
       "    .dataframe thead th {\n",
       "        text-align: right;\n",
       "    }\n",
       "</style>\n",
       "<table border=\"1\" class=\"dataframe\">\n",
       "  <thead>\n",
       "    <tr style=\"text-align: right;\">\n",
       "      <th></th>\n",
       "      <th>Metrics</th>\n",
       "    </tr>\n",
       "  </thead>\n",
       "  <tbody>\n",
       "    <tr>\n",
       "      <th>accuracy_score_Euclidean_Scaled</th>\n",
       "      <td>0.947368</td>\n",
       "    </tr>\n",
       "    <tr>\n",
       "      <th>accuracy_score_Euclidean_Main</th>\n",
       "      <td>0.956140</td>\n",
       "    </tr>\n",
       "    <tr>\n",
       "      <th>accuracy_score_Manhattan_Scaled</th>\n",
       "      <td>0.964912</td>\n",
       "    </tr>\n",
       "    <tr>\n",
       "      <th>accuracy_score_Manhattan_Main</th>\n",
       "      <td>0.938596</td>\n",
       "    </tr>\n",
       "    <tr>\n",
       "      <th>accuracy_score_Chebychev_Scaled</th>\n",
       "      <td>0.929825</td>\n",
       "    </tr>\n",
       "    <tr>\n",
       "      <th>accuracy_score_Chebychev_Main</th>\n",
       "      <td>0.956140</td>\n",
       "    </tr>\n",
       "    <tr>\n",
       "      <th>accuracy_score_MinKowski_Scaled</th>\n",
       "      <td>0.947368</td>\n",
       "    </tr>\n",
       "    <tr>\n",
       "      <th>accuracy_score_MinKowski_Main</th>\n",
       "      <td>0.956140</td>\n",
       "    </tr>\n",
       "    <tr>\n",
       "      <th>accuracy_score_Cosine_Scaled</th>\n",
       "      <td>0.964912</td>\n",
       "    </tr>\n",
       "    <tr>\n",
       "      <th>accuracy_score_Cosine_Main</th>\n",
       "      <td>0.938596</td>\n",
       "    </tr>\n",
       "    <tr>\n",
       "      <th>accuracy_score_Correlation_Scaled</th>\n",
       "      <td>0.824561</td>\n",
       "    </tr>\n",
       "    <tr>\n",
       "      <th>accuracy_score_Correlation_Main</th>\n",
       "      <td>0.938596</td>\n",
       "    </tr>\n",
       "  </tbody>\n",
       "</table>\n",
       "</div>"
      ],
      "text/plain": [
       "                                    Metrics\n",
       "accuracy_score_Euclidean_Scaled    0.947368\n",
       "accuracy_score_Euclidean_Main      0.956140\n",
       "accuracy_score_Manhattan_Scaled    0.964912\n",
       "accuracy_score_Manhattan_Main      0.938596\n",
       "accuracy_score_Chebychev_Scaled    0.929825\n",
       "accuracy_score_Chebychev_Main      0.956140\n",
       "accuracy_score_MinKowski_Scaled    0.947368\n",
       "accuracy_score_MinKowski_Main      0.956140\n",
       "accuracy_score_Cosine_Scaled       0.964912\n",
       "accuracy_score_Cosine_Main         0.938596\n",
       "accuracy_score_Correlation_Scaled  0.824561\n",
       "accuracy_score_Correlation_Main    0.938596"
      ]
     },
     "execution_count": 102,
     "metadata": {},
     "output_type": "execute_result"
    }
   ],
   "source": [
    "metric = pd.DataFrame([accuracy_score_Euclidean_Scaled,  accuracy_score_Euclidean_Main, \n",
    "                       accuracy_score_Manhattan_Scaled, accuracy_score_Manhattan_Main,\n",
    "                       accuracy_score_Chebychev_Scaled,  accuracy_score_Chebychev_Main,\n",
    "                       accuracy_score_MinKowski_Scaled,  accuracy_score_MinKowski_Main,\n",
    "                       accuracy_score_Cosine_Scaled,     accuracy_score_Cosine_Main,\n",
    "                       accuracy_score_Correlation_Scaled,accuracy_score_Correlation_Main])\n",
    "metric.set_axis(['accuracy_score_Euclidean_Scaled',  'accuracy_score_Euclidean_Main', \n",
    "                 'accuracy_score_Manhattan_Scaled',  'accuracy_score_Manhattan_Main',\n",
    "                 'accuracy_score_Chebychev_Scaled',  'accuracy_score_Chebychev_Main',\n",
    "                 'accuracy_score_MinKowski_Scaled',  'accuracy_score_MinKowski_Main',\n",
    "                 'accuracy_score_Cosine_Scaled',     'accuracy_score_Cosine_Main',\n",
    "                 'accuracy_score_Correlation_Scaled','accuracy_score_Correlation_Main'], inplace=True)\n",
    "metric.set_axis(['Metrics'], axis=1, inplace=True) \n",
    "metric\n"
   ]
  },
  {
   "cell_type": "code",
   "execution_count": 103,
   "id": "ef82bf12",
   "metadata": {},
   "outputs": [
    {
     "data": {
      "text/html": [
       "<div>\n",
       "<style scoped>\n",
       "    .dataframe tbody tr th:only-of-type {\n",
       "        vertical-align: middle;\n",
       "    }\n",
       "\n",
       "    .dataframe tbody tr th {\n",
       "        vertical-align: top;\n",
       "    }\n",
       "\n",
       "    .dataframe thead th {\n",
       "        text-align: right;\n",
       "    }\n",
       "</style>\n",
       "<table border=\"1\" class=\"dataframe\">\n",
       "  <thead>\n",
       "    <tr style=\"text-align: right;\">\n",
       "      <th></th>\n",
       "      <th>Metrics</th>\n",
       "    </tr>\n",
       "  </thead>\n",
       "  <tbody>\n",
       "    <tr>\n",
       "      <th>accuracy_score_Correlation_Scaled</th>\n",
       "      <td>0.824561</td>\n",
       "    </tr>\n",
       "    <tr>\n",
       "      <th>accuracy_score_Chebychev_Scaled</th>\n",
       "      <td>0.929825</td>\n",
       "    </tr>\n",
       "    <tr>\n",
       "      <th>accuracy_score_Manhattan_Main</th>\n",
       "      <td>0.938596</td>\n",
       "    </tr>\n",
       "    <tr>\n",
       "      <th>accuracy_score_Cosine_Main</th>\n",
       "      <td>0.938596</td>\n",
       "    </tr>\n",
       "    <tr>\n",
       "      <th>accuracy_score_Correlation_Main</th>\n",
       "      <td>0.938596</td>\n",
       "    </tr>\n",
       "    <tr>\n",
       "      <th>accuracy_score_Euclidean_Scaled</th>\n",
       "      <td>0.947368</td>\n",
       "    </tr>\n",
       "    <tr>\n",
       "      <th>accuracy_score_MinKowski_Scaled</th>\n",
       "      <td>0.947368</td>\n",
       "    </tr>\n",
       "    <tr>\n",
       "      <th>accuracy_score_Euclidean_Main</th>\n",
       "      <td>0.956140</td>\n",
       "    </tr>\n",
       "    <tr>\n",
       "      <th>accuracy_score_Chebychev_Main</th>\n",
       "      <td>0.956140</td>\n",
       "    </tr>\n",
       "    <tr>\n",
       "      <th>accuracy_score_MinKowski_Main</th>\n",
       "      <td>0.956140</td>\n",
       "    </tr>\n",
       "    <tr>\n",
       "      <th>accuracy_score_Manhattan_Scaled</th>\n",
       "      <td>0.964912</td>\n",
       "    </tr>\n",
       "    <tr>\n",
       "      <th>accuracy_score_Cosine_Scaled</th>\n",
       "      <td>0.964912</td>\n",
       "    </tr>\n",
       "  </tbody>\n",
       "</table>\n",
       "</div>"
      ],
      "text/plain": [
       "                                    Metrics\n",
       "accuracy_score_Correlation_Scaled  0.824561\n",
       "accuracy_score_Chebychev_Scaled    0.929825\n",
       "accuracy_score_Manhattan_Main      0.938596\n",
       "accuracy_score_Cosine_Main         0.938596\n",
       "accuracy_score_Correlation_Main    0.938596\n",
       "accuracy_score_Euclidean_Scaled    0.947368\n",
       "accuracy_score_MinKowski_Scaled    0.947368\n",
       "accuracy_score_Euclidean_Main      0.956140\n",
       "accuracy_score_Chebychev_Main      0.956140\n",
       "accuracy_score_MinKowski_Main      0.956140\n",
       "accuracy_score_Manhattan_Scaled    0.964912\n",
       "accuracy_score_Cosine_Scaled       0.964912"
      ]
     },
     "execution_count": 103,
     "metadata": {},
     "output_type": "execute_result"
    }
   ],
   "source": [
    "metric.sort_values(by='Metrics' )"
   ]
  },
  {
   "cell_type": "markdown",
   "id": "d916e0e8",
   "metadata": {},
   "source": [
    "## Manhattan and Cosine  are  the best "
   ]
  },
  {
   "cell_type": "markdown",
   "id": "8f6bf3c8",
   "metadata": {},
   "source": [
    "<div class=\"alert alert-success\" role=\"alert\">\n",
    "  <h1 class=\"alert-heading\">Well done!</h1>\n",
    "  <p>Best Wishes!, Filoger</p>\n",
    "</div>"
   ]
  },
  {
   "cell_type": "code",
   "execution_count": null,
   "id": "e67517b7",
   "metadata": {},
   "outputs": [],
   "source": []
  }
 ],
 "metadata": {
  "kernelspec": {
   "display_name": "Python 3",
   "language": "python",
   "name": "python3"
  },
  "language_info": {
   "codemirror_mode": {
    "name": "ipython",
    "version": 3
   },
   "file_extension": ".py",
   "mimetype": "text/x-python",
   "name": "python",
   "nbconvert_exporter": "python",
   "pygments_lexer": "ipython3",
   "version": "3.8.8"
  }
 },
 "nbformat": 4,
 "nbformat_minor": 5
}
