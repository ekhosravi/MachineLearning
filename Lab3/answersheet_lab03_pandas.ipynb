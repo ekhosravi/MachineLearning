{
 "cells": [
  {
   "cell_type": "markdown",
   "id": "0cdbe2b7",
   "metadata": {},
   "source": [
    "# <img src=\"https://filoger.com/wp-content/uploads/2021/09/circle-logo-1536x1536.png\" alt=\"keras\" width=\"150\" height=\"150\">\n",
    "<h1 align=center><font size = 7>Lab 03 : Pandas</font></h1>\n",
    "<h1 align=center><font size = 4>Hands-On Machine Learning, 1401 | DeadLine: 19th Mehr, 13:00 </font></h1>\n",
    "\n"
   ]
  },
  {
   "cell_type": "markdown",
   "id": "b7d5765a",
   "metadata": {},
   "source": [
    "## Table of Exercises!\n",
    "\n",
    "1. [Question 01](#question01)\n",
    "2. [Question 02](#question02).\n",
    "3. [Question 03](#question03).\n",
    "4. [Question 04](#question04).\n",
    "5. [Question 05](#question05).\n",
    "6. [Question 06](#question06).\n",
    "7. [Question 07](#question07).\n",
    "6. [Question 08](#question08).\n",
    "6. [Question 09](#question09)."
   ]
  },
  {
   "cell_type": "markdown",
   "id": "54f2eafe",
   "metadata": {},
   "source": [
    "# Import Libraries"
   ]
  },
  {
   "cell_type": "code",
   "execution_count": null,
   "id": "44f42b84",
   "metadata": {},
   "outputs": [],
   "source": []
  },
  {
   "cell_type": "markdown",
   "id": "982a1ca9",
   "metadata": {},
   "source": [
    "# Read data"
   ]
  },
  {
   "cell_type": "code",
   "execution_count": null,
   "id": "7c33a10b",
   "metadata": {},
   "outputs": [],
   "source": []
  },
  {
   "cell_type": "markdown",
   "id": "ee6ee3dc",
   "metadata": {},
   "source": [
    "<a id='question01'></a>\n",
    "## Question 01\n",
    "\n",
    "\n"
   ]
  },
  {
   "cell_type": "code",
   "execution_count": 1,
   "id": "bf93f467",
   "metadata": {},
   "outputs": [],
   "source": [
    "#Leave the answer of question 01 here!"
   ]
  },
  {
   "cell_type": "markdown",
   "id": "89915b6e",
   "metadata": {},
   "source": [
    "<a id='question02'></a>\n",
    "## Question 02\n",
    "\n",
    "\n"
   ]
  },
  {
   "cell_type": "code",
   "execution_count": 2,
   "id": "6bf7e068",
   "metadata": {},
   "outputs": [],
   "source": [
    "#Leave the answer of question 02 here!"
   ]
  },
  {
   "cell_type": "markdown",
   "id": "447da3c2",
   "metadata": {},
   "source": [
    "<a id='question03'></a>\n",
    "## Question 03\n",
    "\n",
    "\n"
   ]
  },
  {
   "cell_type": "code",
   "execution_count": 3,
   "id": "16c756fe",
   "metadata": {},
   "outputs": [],
   "source": [
    "#Leave the answer of question 03 here!"
   ]
  },
  {
   "cell_type": "markdown",
   "id": "ad3219c0",
   "metadata": {},
   "source": [
    "<a id='question04'></a>\n",
    "## Question 04\n",
    "\n",
    "\n"
   ]
  },
  {
   "cell_type": "code",
   "execution_count": 4,
   "id": "07cf9d28",
   "metadata": {},
   "outputs": [],
   "source": [
    "#Leave the answer of question 04 here!"
   ]
  },
  {
   "cell_type": "markdown",
   "id": "c9e6cab3",
   "metadata": {},
   "source": [
    "<a id='question05'></a>\n",
    "## Question 05\n",
    "\n",
    "\n"
   ]
  },
  {
   "cell_type": "code",
   "execution_count": 5,
   "id": "b96ad437",
   "metadata": {},
   "outputs": [],
   "source": [
    "#Leave the answer of question 05 here!"
   ]
  },
  {
   "cell_type": "markdown",
   "id": "b856766f",
   "metadata": {},
   "source": [
    "<a id='question06'></a>\n",
    "## Question 06\n",
    "\n",
    "\n"
   ]
  },
  {
   "cell_type": "code",
   "execution_count": 6,
   "id": "7ffe449f",
   "metadata": {},
   "outputs": [],
   "source": [
    "#Leave the answer of question 06 here!"
   ]
  },
  {
   "cell_type": "markdown",
   "id": "da942fa5",
   "metadata": {},
   "source": [
    "<a id='question07'></a>\n",
    "## Question 07\n",
    "\n",
    "\n",
    "\n",
    "<hr>\n",
    "work_year, experience_level, job_title, salary, company_size"
   ]
  },
  {
   "cell_type": "code",
   "execution_count": 7,
   "id": "1c6ec7f1",
   "metadata": {},
   "outputs": [],
   "source": [
    "#Leave the answer of question 07 here!"
   ]
  },
  {
   "cell_type": "markdown",
   "id": "99e3aee1",
   "metadata": {},
   "source": [
    "<a id='question08'></a>\n",
    "## Question 08\n",
    "\n",
    "\n",
    "\n",
    "<hr>\n",
    "Use groupby\n",
    "\n",
    "job_title, count"
   ]
  },
  {
   "cell_type": "code",
   "execution_count": 8,
   "id": "34bbca29",
   "metadata": {},
   "outputs": [],
   "source": [
    "#Leave the answer of question 08 here!"
   ]
  },
  {
   "cell_type": "markdown",
   "id": "fd11f349",
   "metadata": {},
   "source": [
    "<a id='question09'></a>\n",
    "## Question 09\n",
    "\n",
    "\n"
   ]
  },
  {
   "cell_type": "code",
   "execution_count": 9,
   "id": "1db92735",
   "metadata": {},
   "outputs": [],
   "source": [
    "#Leave the answer of question 09 here!"
   ]
  },
  {
   "cell_type": "markdown",
   "id": "21f570ca",
   "metadata": {},
   "source": [
    "<div class=\"alert alert-success\" role=\"alert\">\n",
    "  <h1 class=\"alert-heading\">Well done!</h1>\n",
    "  <p>Best Wishes!, Filoger</p>\n",
    "</div>"
   ]
  }
 ],
 "metadata": {
  "kernelspec": {
   "display_name": "Python 3 (ipykernel)",
   "language": "python",
   "name": "python3"
  },
  "language_info": {
   "codemirror_mode": {
    "name": "ipython",
    "version": 3
   },
   "file_extension": ".py",
   "mimetype": "text/x-python",
   "name": "python",
   "nbconvert_exporter": "python",
   "pygments_lexer": "ipython3",
   "version": "3.9.13"
  }
 },
 "nbformat": 4,
 "nbformat_minor": 5
}
