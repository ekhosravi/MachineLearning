{
 "cells": [
  {
   "cell_type": "markdown",
   "metadata": {},
   "source": [
    "#  \n",
    "<h1 align=center><font size = 7>Lab 01 : Python</font></h1>\n",
    "<h1 align=center><font size = 5>Elham Khosravi</font></h1>\n",
    "<h1 align=center><font size = 4>Hands-On Machine Learning, 2022 | DeadLine: 4th October, 13:00 </font></h1>\n",
    "\n"
   ]
  },
  {
   "cell_type": "markdown",
   "metadata": {
    "button": false,
    "new_sheet": false,
    "run_control": {
     "read_only": false
    }
   },
   "source": [
    "<div class=\"alert alert-info\" style=\"margin-top: 20px\">\n",
    "<font size = 3>\n",
    "\n",
    "<b>Question Sheet!</b>\n",
    "</font>\n",
    "</div>\n",
    "\n",
    "\n"
   ]
  },
  {
   "cell_type": "markdown",
   "metadata": {},
   "source": [
    "## Table of Exercises!\n",
    "\"alert alert-warning\"\n",
    "1. [Question 01](#question01)\n",
    "2. [Question 02](#question02).\n",
    "3. [Question 03](#question03).\n",
    "4. [Question 04](#question04).\n",
    "5. [Question 05](#question05).\n",
    "6. [Question 06](#question06).\n"
   ]
  },
  {
   "cell_type": "markdown",
   "metadata": {
    "button": false,
    "new_sheet": false,
    "run_control": {
     "read_only": false
    }
   },
   "source": [
    "<a id='question01'></a>\n",
    "## Question 01\n",
    "\n",
    "\n"
   ]
  },
  {
   "cell_type": "code",
   "execution_count": 7,
   "metadata": {},
   "outputs": [],
   "source": [
    "def calculation():\n",
    "    a = int(input('Please enter the first number: '))\n",
    "    b = int(input('Please enter the second number: '))\n",
    "    c = input('Please enter the operation /,*,-,+ :')\n",
    "    \n",
    "    if c == '+':\n",
    "        print(a + b)\n",
    "    elif c == '-':\n",
    "        print(a - b)\n",
    "    elif c == '*':\n",
    "        print(a * b)\n",
    "    elif c == '/':\n",
    "        print(a / b)\n",
    "    else:\n",
    "        print('Error')"
   ]
  },
  {
   "cell_type": "code",
   "execution_count": 8,
   "metadata": {},
   "outputs": [
    {
     "name": "stdout",
     "output_type": "stream",
     "text": [
      "Please enter the first number: 5\n",
      "Please enter the second number: 8\n",
      "Please enter the operation /,*,-,+ :-\n",
      "-3\n",
      "Do you want to continue? Please type YES or NO:j\n",
      "Error\n",
      "Do you want to continue? Please type YES or NO:NO\n",
      "Done!\n"
     ]
    }
   ],
   "source": [
    "calculation()\n",
    "while True:\n",
    "    c = input('Do you want to continue? Please type YES or NO:')\n",
    "    if c == 'YES':\n",
    "        calculation()\n",
    "    elif c == 'NO':\n",
    "        break\n",
    "    else:\n",
    "        print('Error')\n",
    "        continue\n",
    "print('Done!')"
   ]
  },
  {
   "cell_type": "markdown",
   "metadata": {},
   "source": [
    "<a id='question02'></a>\n",
    "## Question 02\n",
    "\n",
    "\n"
   ]
  },
  {
   "cell_type": "code",
   "execution_count": 12,
   "metadata": {},
   "outputs": [
    {
     "name": "stdout",
     "output_type": "stream",
     "text": [
      "Enter the number or If no enter finished:4\n",
      "Average until now is : 4\n",
      "Enter the number or If no enter finished:7\n",
      "Average until now is : 5.5\n",
      "Enter the number or If no enter finished:3\n",
      "Average until now is : 4.25\n",
      "Enter the number or If no enter finished:33\n",
      "Average until now is : 18.625\n",
      "Enter the number or If no enter finished:finished\n",
      "Done!\n"
     ]
    }
   ],
   "source": [
    "x = 0\n",
    "count = 0\n",
    "Avg = 0.0\n",
    "while True:\n",
    "    c = input('Enter the number or If no enter finished:')\n",
    "    if c == 'finished':\n",
    "        break\n",
    "    else:\n",
    "        x1 = c.isdigit() \n",
    "        \n",
    "        if x1 == True: \n",
    "            x = int(c) \n",
    "            if Avg == 0:\n",
    "                Avg = x \n",
    "            else:\n",
    "                Avg = (Avg+x) / 2 \n",
    "            print('Average until now is :', Avg) \n",
    "        else:\n",
    "            print('Error')\n",
    "            continue\n",
    "print('Done!')"
   ]
  },
  {
   "cell_type": "markdown",
   "metadata": {},
   "source": [
    "<a id='question03'></a>\n",
    "## Question 03\n",
    "\n",
    "\n"
   ]
  },
  {
   "cell_type": "code",
   "execution_count": 14,
   "metadata": {},
   "outputs": [
    {
     "name": "stdout",
     "output_type": "stream",
     "text": [
      "['Machine', 'learning', 'will', 'automate', 'jobs', 'that', 'most', 'people', 'thought', 'could', 'only', 'be', 'done', 'by', 'people']\n",
      "We have  15  words\n"
     ]
    }
   ],
   "source": [
    "line = 'Machine learning will automate jobs that most people thought could only be done by people'\n",
    "words = line.split()\n",
    "print(words)\n",
    "print('We have ',len(words),' words')"
   ]
  },
  {
   "cell_type": "markdown",
   "metadata": {},
   "source": [
    "<a id='question04'></a>\n",
    "## Question 04\n",
    "\n",
    "\n"
   ]
  },
  {
   "cell_type": "code",
   "execution_count": 16,
   "metadata": {},
   "outputs": [],
   "source": [
    "def CountInLine(line):\n",
    "    counts = dict()\n",
    "    names=line.split() \n",
    "    for name in names :\n",
    "        counts[name] = counts.get(name, 0) + 1\n",
    "    return(counts)"
   ]
  },
  {
   "cell_type": "code",
   "execution_count": 19,
   "metadata": {},
   "outputs": [
    {
     "name": "stdout",
     "output_type": "stream",
     "text": [
      "{'To': 1, 'the': 1, 'tintinnabulation': 1, 'that': 1, 'so': 1, 'musically': 1, 'wells': 1}\n"
     ]
    }
   ],
   "source": [
    "print(CountInLine('To the tintinnabulation that so musically wells'))"
   ]
  },
  {
   "cell_type": "code",
   "execution_count": 20,
   "metadata": {},
   "outputs": [
    {
     "name": "stdout",
     "output_type": "stream",
     "text": [
      "{'From': 1, 'the': 1, 'bells': 7, ',': 6, '.': 1}\n"
     ]
    }
   ],
   "source": [
    "print(CountInLine('From the bells , bells , bells , bells , bells , bells , bells .'))"
   ]
  },
  {
   "cell_type": "code",
   "execution_count": 21,
   "metadata": {},
   "outputs": [
    {
     "name": "stdout",
     "output_type": "stream",
     "text": [
      "{'From': 1, 'the': 3, 'jingling': 1, 'and': 1, 'tinkling': 1, 'of': 1, 'bells': 1, '.': 1}\n"
     ]
    }
   ],
   "source": [
    "print(CountInLine('From the jingling and the tinkling of the bells .'))"
   ]
  },
  {
   "cell_type": "markdown",
   "metadata": {},
   "source": [
    "<a id='question05'></a>\n",
    "## Question 05\n",
    "\n",
    "\n"
   ]
  },
  {
   "cell_type": "code",
   "execution_count": 24,
   "metadata": {},
   "outputs": [
    {
     "name": "stdout",
     "output_type": "stream",
     "text": [
      "is 8\n",
      "of 7\n",
      "a 5\n",
      "O 5\n",
      "with 5\n",
      "it 4\n",
      "to 4\n",
      "that 4\n",
      "and 4\n",
      "the 4\n"
     ]
    }
   ],
   "source": [
    "counts = dict() \n",
    "file = open('romeo.txt')\n",
    "for line in file:\n",
    "    line = line.rstrip()\n",
    "    names= line.split() \n",
    "    for name in names :\n",
    "        counts[name] = counts.get(name, 0) + 1\n",
    "\n",
    "lst = list(counts.items())\n",
    "lst.sort(key=lambda y: y[1])\n",
    "lst.reverse() \n",
    "    \n",
    "print(\"{} {}\".format(lst[0][0], lst[0][1]))\n",
    "print(\"{} {}\".format(lst[1][0], lst[1][1]))\n",
    "print(\"{} {}\".format(lst[2][0], lst[2][1]))\n",
    "print(\"{} {}\".format(lst[3][0], lst[3][1]))\n",
    "print(\"{} {}\".format(lst[4][0], lst[4][1]))\n",
    "print(\"{} {}\".format(lst[5][0], lst[5][1]))\n",
    "print(\"{} {}\".format(lst[6][0], lst[6][1]))\n",
    "print(\"{} {}\".format(lst[7][0], lst[7][1]))\n",
    "print(\"{} {}\".format(lst[8][0], lst[8][1]))\n",
    "print(\"{} {}\".format(lst[9][0], lst[9][1]))\n"
   ]
  },
  {
   "cell_type": "markdown",
   "metadata": {},
   "source": [
    "<a id='question06'></a>\n",
    "## Question 06\n",
    "\n",
    "\n"
   ]
  },
  {
   "cell_type": "code",
   "execution_count": 31,
   "metadata": {},
   "outputs": [],
   "source": [
    "def StudentGrade():\n",
    "    c = input('Please enter the Student Score between 0 to 100 : ')\n",
    "    \n",
    "    if c.isdigit() == True:\n",
    "        a = int(c) \n",
    "\n",
    "        if a > 100 :\n",
    "            print('Score is Greater than 100 ! ')\n",
    "        elif a >= 90 and a <= 100:\n",
    "            print('A')\n",
    "        elif a >= 80 and a < 90:\n",
    "            print('B')\n",
    "        elif a >= 70 and a < 80:\n",
    "            print('C')\n",
    "        elif a >= 60 and a < 70:\n",
    "            print('D') \n",
    "        else:\n",
    "            print('F')\n",
    "    else:\n",
    "        print('The Score is not digit.')\n",
    " "
   ]
  },
  {
   "cell_type": "code",
   "execution_count": 32,
   "metadata": {},
   "outputs": [
    {
     "name": "stdout",
     "output_type": "stream",
     "text": [
      "Please enter the Student Score between 0 to 100 : 85\n",
      "B\n"
     ]
    }
   ],
   "source": [
    "StudentGrade()"
   ]
  },
  {
   "cell_type": "markdown",
   "metadata": {},
   "source": [
    "<div class=\"alert alert-success\" role=\"alert\">\n",
    "  <h1 class=\"alert-heading\">Well done!</h1>\n",
    "  <p>Best Wishes!, Filoger</p>\n",
    "</div>"
   ]
  }
 ],
 "metadata": {
  "kernelspec": {
   "display_name": "Python 3",
   "language": "python",
   "name": "python3"
  },
  "language_info": {
   "codemirror_mode": {
    "name": "ipython",
    "version": 3
   },
   "file_extension": ".py",
   "mimetype": "text/x-python",
   "name": "python",
   "nbconvert_exporter": "python",
   "pygments_lexer": "ipython3",
   "version": "3.8.8"
  }
 },
 "nbformat": 4,
 "nbformat_minor": 4
}
