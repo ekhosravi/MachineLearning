{
 "cells": [
  {
   "cell_type": "markdown",
   "id": "ffd33b40",
   "metadata": {},
   "source": [
    "# <img src=\"https://filoger.com/wp-content/uploads/2021/09/circle-logo-1536x1536.png\" alt=\"keras\" width=\"150\" height=\"150\">\n",
    "<h1 align=center><font size = 7>Lab 05 : Polynomial Regression</font></h1>\n",
    "<h1 align=center><font size = 4>Hands-On Machine Learning, 1401 | DeadLine: 3rd Aban, 13:00 </font></h1>\n",
    "\n"
   ]
  },
  {
   "cell_type": "markdown",
   "id": "e532b511",
   "metadata": {},
   "source": [
    "# Step0: Import Libraries"
   ]
  },
  {
   "cell_type": "code",
   "execution_count": 241,
   "id": "33229694",
   "metadata": {},
   "outputs": [],
   "source": [
    "import pandas as pd\n",
    "import matplotlib.pyplot as plt\n",
    "import numpy as np\n",
    "import seaborn as sns"
   ]
  },
  {
   "cell_type": "code",
   "execution_count": 242,
   "id": "7c52754b",
   "metadata": {},
   "outputs": [],
   "source": [
    "from sklearn.preprocessing import PolynomialFeatures\n",
    "from sklearn.linear_model import LinearRegression\n",
    "from sklearn.metrics import mean_squared_error\n",
    "from sklearn import metrics"
   ]
  },
  {
   "cell_type": "markdown",
   "id": "0aeff1a6",
   "metadata": {},
   "source": [
    "# Step1: Read Data"
   ]
  },
  {
   "cell_type": "code",
   "execution_count": 243,
   "id": "b04ed4fd",
   "metadata": {},
   "outputs": [],
   "source": [
    "df = pd.read_csv(\"Real estate.csv\")"
   ]
  },
  {
   "cell_type": "markdown",
   "id": "78d2098f",
   "metadata": {},
   "source": [
    "# Step2: Data Overview"
   ]
  },
  {
   "cell_type": "code",
   "execution_count": 244,
   "id": "4b54e40a",
   "metadata": {},
   "outputs": [
    {
     "name": "stdout",
     "output_type": "stream",
     "text": [
      "<class 'pandas.core.frame.DataFrame'>\n",
      "RangeIndex: 414 entries, 0 to 413\n",
      "Data columns (total 8 columns):\n",
      " #   Column                                  Non-Null Count  Dtype  \n",
      "---  ------                                  --------------  -----  \n",
      " 0   No                                      414 non-null    int64  \n",
      " 1   X1 transaction date                     414 non-null    float64\n",
      " 2   X2 house age                            414 non-null    float64\n",
      " 3   X3 distance to the nearest MRT station  414 non-null    float64\n",
      " 4   X4 number of convenience stores         414 non-null    int64  \n",
      " 5   X5 latitude                             414 non-null    float64\n",
      " 6   X6 longitude                            414 non-null    float64\n",
      " 7   Y house price of unit area              414 non-null    float64\n",
      "dtypes: float64(6), int64(2)\n",
      "memory usage: 26.0 KB\n"
     ]
    }
   ],
   "source": [
    "df.info()"
   ]
  },
  {
   "cell_type": "markdown",
   "id": "1d61a5f6",
   "metadata": {},
   "source": [
    "# Step3: X, y"
   ]
  },
  {
   "cell_type": "code",
   "execution_count": 245,
   "id": "c4d749cf",
   "metadata": {},
   "outputs": [],
   "source": [
    "df.rename(columns = {'Y house price of unit area':'price'}, inplace = True)"
   ]
  },
  {
   "cell_type": "code",
   "execution_count": 246,
   "id": "bae339f6",
   "metadata": {},
   "outputs": [
    {
     "data": {
      "text/plain": [
       "<AxesSubplot:xlabel='X5 latitude', ylabel='X6 longitude'>"
      ]
     },
     "execution_count": 246,
     "metadata": {},
     "output_type": "execute_result"
    },
    {
     "data": {
      "image/png": "[encoded data removed]",
      "text/plain": [
       "<Figure size 432x288 with 1 Axes>"
      ]
     },
     "metadata": {
      "needs_background": "light"
     },
     "output_type": "display_data"
    }
   ],
   "source": [
    "sns.scatterplot(data=df, x='X5 latitude', y='X6 longitude', hue='price', palette='Greens')"
   ]
  },
  {
   "cell_type": "code",
   "execution_count": 247,
   "id": "33eafea2",
   "metadata": {},
   "outputs": [
    {
     "data": {
      "text/html": [
       "<div>\n",
       "<style scoped>\n",
       "    .dataframe tbody tr th:only-of-type {\n",
       "        vertical-align: middle;\n",
       "    }\n",
       "\n",
       "    .dataframe tbody tr th {\n",
       "        vertical-align: top;\n",
       "    }\n",
       "\n",
       "    .dataframe thead th {\n",
       "        text-align: right;\n",
       "    }\n",
       "</style>\n",
       "<table border=\"1\" class=\"dataframe\">\n",
       "  <thead>\n",
       "    <tr style=\"text-align: right;\">\n",
       "      <th></th>\n",
       "      <th>No</th>\n",
       "      <th>X1 transaction date</th>\n",
       "      <th>X2 house age</th>\n",
       "      <th>X3 distance to the nearest MRT station</th>\n",
       "      <th>X4 number of convenience stores</th>\n",
       "      <th>X5 latitude</th>\n",
       "      <th>X6 longitude</th>\n",
       "      <th>price</th>\n",
       "    </tr>\n",
       "  </thead>\n",
       "  <tbody>\n",
       "    <tr>\n",
       "      <th>No</th>\n",
       "      <td>1.000000</td>\n",
       "      <td>-0.048658</td>\n",
       "      <td>-0.032808</td>\n",
       "      <td>-0.013573</td>\n",
       "      <td>-0.012699</td>\n",
       "      <td>-0.010110</td>\n",
       "      <td>-0.011059</td>\n",
       "      <td>-0.028587</td>\n",
       "    </tr>\n",
       "    <tr>\n",
       "      <th>X1 transaction date</th>\n",
       "      <td>-0.048658</td>\n",
       "      <td>1.000000</td>\n",
       "      <td>0.017549</td>\n",
       "      <td>0.060880</td>\n",
       "      <td>0.009635</td>\n",
       "      <td>0.035058</td>\n",
       "      <td>-0.041082</td>\n",
       "      <td>0.087491</td>\n",
       "    </tr>\n",
       "    <tr>\n",
       "      <th>X2 house age</th>\n",
       "      <td>-0.032808</td>\n",
       "      <td>0.017549</td>\n",
       "      <td>1.000000</td>\n",
       "      <td>0.025622</td>\n",
       "      <td>0.049593</td>\n",
       "      <td>0.054420</td>\n",
       "      <td>-0.048520</td>\n",
       "      <td>-0.210567</td>\n",
       "    </tr>\n",
       "    <tr>\n",
       "      <th>X3 distance to the nearest MRT station</th>\n",
       "      <td>-0.013573</td>\n",
       "      <td>0.060880</td>\n",
       "      <td>0.025622</td>\n",
       "      <td>1.000000</td>\n",
       "      <td>-0.602519</td>\n",
       "      <td>-0.591067</td>\n",
       "      <td>-0.806317</td>\n",
       "      <td>-0.673613</td>\n",
       "    </tr>\n",
       "    <tr>\n",
       "      <th>X4 number of convenience stores</th>\n",
       "      <td>-0.012699</td>\n",
       "      <td>0.009635</td>\n",
       "      <td>0.049593</td>\n",
       "      <td>-0.602519</td>\n",
       "      <td>1.000000</td>\n",
       "      <td>0.444143</td>\n",
       "      <td>0.449099</td>\n",
       "      <td>0.571005</td>\n",
       "    </tr>\n",
       "    <tr>\n",
       "      <th>X5 latitude</th>\n",
       "      <td>-0.010110</td>\n",
       "      <td>0.035058</td>\n",
       "      <td>0.054420</td>\n",
       "      <td>-0.591067</td>\n",
       "      <td>0.444143</td>\n",
       "      <td>1.000000</td>\n",
       "      <td>0.412924</td>\n",
       "      <td>0.546307</td>\n",
       "    </tr>\n",
       "    <tr>\n",
       "      <th>X6 longitude</th>\n",
       "      <td>-0.011059</td>\n",
       "      <td>-0.041082</td>\n",
       "      <td>-0.048520</td>\n",
       "      <td>-0.806317</td>\n",
       "      <td>0.449099</td>\n",
       "      <td>0.412924</td>\n",
       "      <td>1.000000</td>\n",
       "      <td>0.523287</td>\n",
       "    </tr>\n",
       "    <tr>\n",
       "      <th>price</th>\n",
       "      <td>-0.028587</td>\n",
       "      <td>0.087491</td>\n",
       "      <td>-0.210567</td>\n",
       "      <td>-0.673613</td>\n",
       "      <td>0.571005</td>\n",
       "      <td>0.546307</td>\n",
       "      <td>0.523287</td>\n",
       "      <td>1.000000</td>\n",
       "    </tr>\n",
       "  </tbody>\n",
       "</table>\n",
       "</div>"
      ],
      "text/plain": [
       "                                              No  X1 transaction date  \\\n",
       "No                                      1.000000            -0.048658   \n",
       "X1 transaction date                    -0.048658             1.000000   \n",
       "X2 house age                           -0.032808             0.017549   \n",
       "X3 distance to the nearest MRT station -0.013573             0.060880   \n",
       "X4 number of convenience stores        -0.012699             0.009635   \n",
       "X5 latitude                            -0.010110             0.035058   \n",
       "X6 longitude                           -0.011059            -0.041082   \n",
       "price                                  -0.028587             0.087491   \n",
       "\n",
       "                                        X2 house age  \\\n",
       "No                                         -0.032808   \n",
       "X1 transaction date                         0.017549   \n",
       "X2 house age                                1.000000   \n",
       "X3 distance to the nearest MRT station      0.025622   \n",
       "X4 number of convenience stores             0.049593   \n",
       "X5 latitude                                 0.054420   \n",
       "X6 longitude                               -0.048520   \n",
       "price                                      -0.210567   \n",
       "\n",
       "                                        X3 distance to the nearest MRT station  \\\n",
       "No                                                                   -0.013573   \n",
       "X1 transaction date                                                   0.060880   \n",
       "X2 house age                                                          0.025622   \n",
       "X3 distance to the nearest MRT station                                1.000000   \n",
       "X4 number of convenience stores                                      -0.602519   \n",
       "X5 latitude                                                          -0.591067   \n",
       "X6 longitude                                                         -0.806317   \n",
       "price                                                                -0.673613   \n",
       "\n",
       "                                        X4 number of convenience stores  \\\n",
       "No                                                            -0.012699   \n",
       "X1 transaction date                                            0.009635   \n",
       "X2 house age                                                   0.049593   \n",
       "X3 distance to the nearest MRT station                        -0.602519   \n",
       "X4 number of convenience stores                                1.000000   \n",
       "X5 latitude                                                    0.444143   \n",
       "X6 longitude                                                   0.449099   \n",
       "price                                                          0.571005   \n",
       "\n",
       "                                        X5 latitude  X6 longitude     price  \n",
       "No                                        -0.010110     -0.011059 -0.028587  \n",
       "X1 transaction date                        0.035058     -0.041082  0.087491  \n",
       "X2 house age                               0.054420     -0.048520 -0.210567  \n",
       "X3 distance to the nearest MRT station    -0.591067     -0.806317 -0.673613  \n",
       "X4 number of convenience stores            0.444143      0.449099  0.571005  \n",
       "X5 latitude                                1.000000      0.412924  0.546307  \n",
       "X6 longitude                               0.412924      1.000000  0.523287  \n",
       "price                                      0.546307      0.523287  1.000000  "
      ]
     },
     "execution_count": 247,
     "metadata": {},
     "output_type": "execute_result"
    }
   ],
   "source": [
    "df.corr()"
   ]
  },
  {
   "cell_type": "code",
   "execution_count": 248,
   "id": "1d2ee051",
   "metadata": {},
   "outputs": [
    {
     "data": {
      "text/plain": [
       "<AxesSubplot:>"
      ]
     },
     "execution_count": 248,
     "metadata": {},
     "output_type": "execute_result"
    },
    {
     "data": {
      "image/png": "[encoded data removed]",
      "text/plain": [
       "<Figure size 576x288 with 2 Axes>"
      ]
     },
     "metadata": {
      "needs_background": "light"
     },
     "output_type": "display_data"
    }
   ],
   "source": [
    "# correlation\n",
    "fig = plt.figure(figsize=(8,4))\n",
    "sns.heatmap(df.corr(), annot=True,cmap='Blues')"
   ]
  },
  {
   "cell_type": "code",
   "execution_count": 291,
   "id": "b6daf680",
   "metadata": {},
   "outputs": [
    {
     "data": {
      "text/html": [
       "<div>\n",
       "<style scoped>\n",
       "    .dataframe tbody tr th:only-of-type {\n",
       "        vertical-align: middle;\n",
       "    }\n",
       "\n",
       "    .dataframe tbody tr th {\n",
       "        vertical-align: top;\n",
       "    }\n",
       "\n",
       "    .dataframe thead th {\n",
       "        text-align: right;\n",
       "    }\n",
       "</style>\n",
       "<table border=\"1\" class=\"dataframe\">\n",
       "  <thead>\n",
       "    <tr style=\"text-align: right;\">\n",
       "      <th></th>\n",
       "      <th>X1 transaction date</th>\n",
       "      <th>X2 house age</th>\n",
       "      <th>X3 distance to the nearest MRT station</th>\n",
       "      <th>X4 number of convenience stores</th>\n",
       "      <th>X5 latitude</th>\n",
       "      <th>X6 longitude</th>\n",
       "    </tr>\n",
       "  </thead>\n",
       "  <tbody>\n",
       "    <tr>\n",
       "      <th>0</th>\n",
       "      <td>2012.917</td>\n",
       "      <td>32.0</td>\n",
       "      <td>84.87882</td>\n",
       "      <td>10</td>\n",
       "      <td>24.98298</td>\n",
       "      <td>121.54024</td>\n",
       "    </tr>\n",
       "    <tr>\n",
       "      <th>1</th>\n",
       "      <td>2012.917</td>\n",
       "      <td>19.5</td>\n",
       "      <td>306.59470</td>\n",
       "      <td>9</td>\n",
       "      <td>24.98034</td>\n",
       "      <td>121.53951</td>\n",
       "    </tr>\n",
       "    <tr>\n",
       "      <th>2</th>\n",
       "      <td>2013.583</td>\n",
       "      <td>13.3</td>\n",
       "      <td>561.98450</td>\n",
       "      <td>5</td>\n",
       "      <td>24.98746</td>\n",
       "      <td>121.54391</td>\n",
       "    </tr>\n",
       "    <tr>\n",
       "      <th>3</th>\n",
       "      <td>2013.500</td>\n",
       "      <td>13.3</td>\n",
       "      <td>561.98450</td>\n",
       "      <td>5</td>\n",
       "      <td>24.98746</td>\n",
       "      <td>121.54391</td>\n",
       "    </tr>\n",
       "    <tr>\n",
       "      <th>4</th>\n",
       "      <td>2012.833</td>\n",
       "      <td>5.0</td>\n",
       "      <td>390.56840</td>\n",
       "      <td>5</td>\n",
       "      <td>24.97937</td>\n",
       "      <td>121.54245</td>\n",
       "    </tr>\n",
       "  </tbody>\n",
       "</table>\n",
       "</div>"
      ],
      "text/plain": [
       "   X1 transaction date  X2 house age  X3 distance to the nearest MRT station  \\\n",
       "0             2012.917          32.0                                84.87882   \n",
       "1             2012.917          19.5                               306.59470   \n",
       "2             2013.583          13.3                               561.98450   \n",
       "3             2013.500          13.3                               561.98450   \n",
       "4             2012.833           5.0                               390.56840   \n",
       "\n",
       "   X4 number of convenience stores  X5 latitude  X6 longitude  \n",
       "0                               10     24.98298     121.54024  \n",
       "1                                9     24.98034     121.53951  \n",
       "2                                5     24.98746     121.54391  \n",
       "3                                5     24.98746     121.54391  \n",
       "4                                5     24.97937     121.54245  "
      ]
     },
     "execution_count": 291,
     "metadata": {},
     "output_type": "execute_result"
    }
   ],
   "source": [
    "X = df.drop(['price', 'No'], axis=1)\n",
    "y=df['price']\n",
    "X.head()"
   ]
  },
  {
   "cell_type": "code",
   "execution_count": 292,
   "id": "0df340b2",
   "metadata": {},
   "outputs": [
    {
     "data": {
      "text/plain": [
       "0      37.9\n",
       "1      42.2\n",
       "2      47.3\n",
       "3      54.8\n",
       "4      43.1\n",
       "       ... \n",
       "409    15.4\n",
       "410    50.0\n",
       "411    40.6\n",
       "412    52.5\n",
       "413    63.9\n",
       "Name: price, Length: 414, dtype: float64"
      ]
     },
     "execution_count": 292,
     "metadata": {},
     "output_type": "execute_result"
    }
   ],
   "source": [
    "y"
   ]
  },
  {
   "cell_type": "markdown",
   "id": "a49062cb",
   "metadata": {},
   "source": [
    "# Step4: Linear Regression"
   ]
  },
  {
   "cell_type": "code",
   "execution_count": 293,
   "id": "5d35fe55",
   "metadata": {},
   "outputs": [],
   "source": [
    "from sklearn.model_selection import train_test_split"
   ]
  },
  {
   "cell_type": "markdown",
   "id": "34f29f87",
   "metadata": {},
   "source": [
    "### train_test_split"
   ]
  },
  {
   "cell_type": "code",
   "execution_count": 294,
   "id": "410070f0",
   "metadata": {},
   "outputs": [],
   "source": [
    "XL_train, XL_test, yL_train, yL_test = train_test_split(X, y, test_size=0.2, random_state=101)"
   ]
  },
  {
   "cell_type": "markdown",
   "id": "3c158756",
   "metadata": {},
   "source": [
    "### Creat the Model"
   ]
  },
  {
   "cell_type": "code",
   "execution_count": 295,
   "id": "660260a6",
   "metadata": {},
   "outputs": [],
   "source": [
    "LR = LinearRegression()"
   ]
  },
  {
   "cell_type": "markdown",
   "id": "9c3189b2",
   "metadata": {},
   "source": [
    "### Train the Model"
   ]
  },
  {
   "cell_type": "code",
   "execution_count": 296,
   "id": "9a877438",
   "metadata": {},
   "outputs": [
    {
     "data": {
      "text/plain": [
       "LinearRegression()"
      ]
     },
     "execution_count": 296,
     "metadata": {},
     "output_type": "execute_result"
    }
   ],
   "source": [
    "LR.fit(XL_train, yL_train)"
   ]
  },
  {
   "cell_type": "markdown",
   "id": "db0aa21b",
   "metadata": {},
   "source": [
    "### Print Coefficient and Intercept "
   ]
  },
  {
   "cell_type": "code",
   "execution_count": 297,
   "id": "9101a675",
   "metadata": {},
   "outputs": [
    {
     "data": {
      "text/html": [
       "<div>\n",
       "<style scoped>\n",
       "    .dataframe tbody tr th:only-of-type {\n",
       "        vertical-align: middle;\n",
       "    }\n",
       "\n",
       "    .dataframe tbody tr th {\n",
       "        vertical-align: top;\n",
       "    }\n",
       "\n",
       "    .dataframe thead th {\n",
       "        text-align: right;\n",
       "    }\n",
       "</style>\n",
       "<table border=\"1\" class=\"dataframe\">\n",
       "  <thead>\n",
       "    <tr style=\"text-align: right;\">\n",
       "      <th></th>\n",
       "      <th>Coefficient</th>\n",
       "    </tr>\n",
       "  </thead>\n",
       "  <tbody>\n",
       "    <tr>\n",
       "      <th>X1 transaction date</th>\n",
       "      <td>4.973004</td>\n",
       "    </tr>\n",
       "    <tr>\n",
       "      <th>X2 house age</th>\n",
       "      <td>-0.286733</td>\n",
       "    </tr>\n",
       "    <tr>\n",
       "      <th>X3 distance to the nearest MRT station</th>\n",
       "      <td>-0.004399</td>\n",
       "    </tr>\n",
       "    <tr>\n",
       "      <th>X4 number of convenience stores</th>\n",
       "      <td>1.232185</td>\n",
       "    </tr>\n",
       "    <tr>\n",
       "      <th>X5 latitude</th>\n",
       "      <td>243.562821</td>\n",
       "    </tr>\n",
       "    <tr>\n",
       "      <th>X6 longitude</th>\n",
       "      <td>1.518267</td>\n",
       "    </tr>\n",
       "  </tbody>\n",
       "</table>\n",
       "</div>"
      ],
      "text/plain": [
       "                                        Coefficient\n",
       "X1 transaction date                        4.973004\n",
       "X2 house age                              -0.286733\n",
       "X3 distance to the nearest MRT station    -0.004399\n",
       "X4 number of convenience stores            1.232185\n",
       "X5 latitude                              243.562821\n",
       "X6 longitude                               1.518267"
      ]
     },
     "execution_count": 297,
     "metadata": {},
     "output_type": "execute_result"
    }
   ],
   "source": [
    "coef_m = pd.DataFrame(data=LR.coef_, index=X.columns, columns=['Coefficient'])\n",
    "coef_m"
   ]
  },
  {
   "cell_type": "code",
   "execution_count": 298,
   "id": "39e1797f",
   "metadata": {},
   "outputs": [
    {
     "data": {
      "text/plain": [
       "-16234.447509381325"
      ]
     },
     "execution_count": 298,
     "metadata": {},
     "output_type": "execute_result"
    }
   ],
   "source": [
    "LR.intercept_"
   ]
  },
  {
   "cell_type": "markdown",
   "id": "ed1710d5",
   "metadata": {},
   "source": [
    "###  Prediction & Evaluation"
   ]
  },
  {
   "cell_type": "code",
   "execution_count": 299,
   "id": "0b22e0a6",
   "metadata": {},
   "outputs": [],
   "source": [
    "yL_pred = LR.predict(XL_test)"
   ]
  },
  {
   "cell_type": "code",
   "execution_count": 300,
   "id": "be6ef786",
   "metadata": {},
   "outputs": [
    {
     "data": {
      "text/html": [
       "<div>\n",
       "<style scoped>\n",
       "    .dataframe tbody tr th:only-of-type {\n",
       "        vertical-align: middle;\n",
       "    }\n",
       "\n",
       "    .dataframe tbody tr th {\n",
       "        vertical-align: top;\n",
       "    }\n",
       "\n",
       "    .dataframe thead th {\n",
       "        text-align: right;\n",
       "    }\n",
       "</style>\n",
       "<table border=\"1\" class=\"dataframe\">\n",
       "  <thead>\n",
       "    <tr style=\"text-align: right;\">\n",
       "      <th></th>\n",
       "      <th>y_test_LR</th>\n",
       "      <th>y_pred_LR</th>\n",
       "      <th>Error_LR</th>\n",
       "    </tr>\n",
       "  </thead>\n",
       "  <tbody>\n",
       "    <tr>\n",
       "      <th>176</th>\n",
       "      <td>19.2</td>\n",
       "      <td>12.304507</td>\n",
       "      <td>6.895493</td>\n",
       "    </tr>\n",
       "    <tr>\n",
       "      <th>347</th>\n",
       "      <td>11.2</td>\n",
       "      <td>9.884906</td>\n",
       "      <td>1.315094</td>\n",
       "    </tr>\n",
       "    <tr>\n",
       "      <th>307</th>\n",
       "      <td>24.7</td>\n",
       "      <td>21.460539</td>\n",
       "      <td>3.239461</td>\n",
       "    </tr>\n",
       "    <tr>\n",
       "      <th>299</th>\n",
       "      <td>46.1</td>\n",
       "      <td>48.470683</td>\n",
       "      <td>-2.370683</td>\n",
       "    </tr>\n",
       "    <tr>\n",
       "      <th>391</th>\n",
       "      <td>31.3</td>\n",
       "      <td>31.851676</td>\n",
       "      <td>-0.551676</td>\n",
       "    </tr>\n",
       "    <tr>\n",
       "      <th>...</th>\n",
       "      <td>...</td>\n",
       "      <td>...</td>\n",
       "      <td>...</td>\n",
       "    </tr>\n",
       "    <tr>\n",
       "      <th>65</th>\n",
       "      <td>44.3</td>\n",
       "      <td>43.943787</td>\n",
       "      <td>0.356213</td>\n",
       "    </tr>\n",
       "    <tr>\n",
       "      <th>48</th>\n",
       "      <td>13.4</td>\n",
       "      <td>11.670116</td>\n",
       "      <td>1.729884</td>\n",
       "    </tr>\n",
       "    <tr>\n",
       "      <th>18</th>\n",
       "      <td>42.3</td>\n",
       "      <td>47.367277</td>\n",
       "      <td>-5.067277</td>\n",
       "    </tr>\n",
       "    <tr>\n",
       "      <th>15</th>\n",
       "      <td>50.5</td>\n",
       "      <td>38.112267</td>\n",
       "      <td>12.387733</td>\n",
       "    </tr>\n",
       "    <tr>\n",
       "      <th>143</th>\n",
       "      <td>40.1</td>\n",
       "      <td>43.900616</td>\n",
       "      <td>-3.800616</td>\n",
       "    </tr>\n",
       "  </tbody>\n",
       "</table>\n",
       "<p>83 rows × 3 columns</p>\n",
       "</div>"
      ],
      "text/plain": [
       "     y_test_LR  y_pred_LR   Error_LR\n",
       "176       19.2  12.304507   6.895493\n",
       "347       11.2   9.884906   1.315094\n",
       "307       24.7  21.460539   3.239461\n",
       "299       46.1  48.470683  -2.370683\n",
       "391       31.3  31.851676  -0.551676\n",
       "..         ...        ...        ...\n",
       "65        44.3  43.943787   0.356213\n",
       "48        13.4  11.670116   1.729884\n",
       "18        42.3  47.367277  -5.067277\n",
       "15        50.5  38.112267  12.387733\n",
       "143       40.1  43.900616  -3.800616\n",
       "\n",
       "[83 rows x 3 columns]"
      ]
     },
     "execution_count": 300,
     "metadata": {},
     "output_type": "execute_result"
    }
   ],
   "source": [
    "pd.DataFrame({'y_test_LR':yL_test, 'y_pred_LR':yL_pred, \"Error_LR\":(yL_test - yL_pred)})"
   ]
  },
  {
   "cell_type": "markdown",
   "id": "30dd7868",
   "metadata": {},
   "source": [
    "### Creat a DataFrame\n",
    "<hr>\n",
    "<b>MAE, MSE, RMSE</b>"
   ]
  },
  {
   "cell_type": "code",
   "execution_count": 301,
   "id": "5c9f6394",
   "metadata": {},
   "outputs": [],
   "source": [
    "MAE_L = metrics.mean_absolute_error(yL_test, yL_pred)\n",
    "MSE_L = metrics.mean_squared_error(yL_test, yL_pred)\n",
    "RMSE_L = np.sqrt(MSE_L)"
   ]
  },
  {
   "cell_type": "code",
   "execution_count": 332,
   "id": "3ec9660f",
   "metadata": {},
   "outputs": [
    {
     "data": {
      "text/html": [
       "<div>\n",
       "<style scoped>\n",
       "    .dataframe tbody tr th:only-of-type {\n",
       "        vertical-align: middle;\n",
       "    }\n",
       "\n",
       "    .dataframe tbody tr th {\n",
       "        vertical-align: top;\n",
       "    }\n",
       "\n",
       "    .dataframe thead th {\n",
       "        text-align: right;\n",
       "    }\n",
       "</style>\n",
       "<table border=\"1\" class=\"dataframe\">\n",
       "  <thead>\n",
       "    <tr style=\"text-align: right;\">\n",
       "      <th></th>\n",
       "      <th>Error_LR</th>\n",
       "    </tr>\n",
       "  </thead>\n",
       "  <tbody>\n",
       "    <tr>\n",
       "      <th>MAE</th>\n",
       "      <td>5.195031</td>\n",
       "    </tr>\n",
       "    <tr>\n",
       "      <th>MSE</th>\n",
       "      <td>44.129008</td>\n",
       "    </tr>\n",
       "    <tr>\n",
       "      <th>RMSE</th>\n",
       "      <td>6.642967</td>\n",
       "    </tr>\n",
       "  </tbody>\n",
       "</table>\n",
       "</div>"
      ],
      "text/plain": [
       "       Error_LR\n",
       "MAE    5.195031\n",
       "MSE   44.129008\n",
       "RMSE   6.642967"
      ]
     },
     "execution_count": 332,
     "metadata": {},
     "output_type": "execute_result"
    }
   ],
   "source": [
    "Error_L = pd.DataFrame([MAE_L, MSE_L, RMSE_L], index=['MAE', 'MSE', 'RMSE'], columns=['Error_LR'])\n",
    "Error_L"
   ]
  },
  {
   "cell_type": "markdown",
   "id": "f27806c2",
   "metadata": {},
   "source": [
    "# Step5: PolynomialFeatures"
   ]
  },
  {
   "cell_type": "code",
   "execution_count": 333,
   "id": "3c424dff",
   "metadata": {},
   "outputs": [],
   "source": [
    "polynomial = PolynomialFeatures(degree=2, include_bias=True)\n",
    "poly_X = polynomial.fit_transform(X)"
   ]
  },
  {
   "cell_type": "code",
   "execution_count": 334,
   "id": "361b1ced",
   "metadata": {},
   "outputs": [
    {
     "data": {
      "text/plain": [
       "((414, 28), (414, 6))"
      ]
     },
     "execution_count": 334,
     "metadata": {},
     "output_type": "execute_result"
    }
   ],
   "source": [
    "poly_X.shape , X.shape"
   ]
  },
  {
   "cell_type": "markdown",
   "id": "b5a80b36",
   "metadata": {},
   "source": [
    "# Step6: train_test_split"
   ]
  },
  {
   "cell_type": "code",
   "execution_count": 335,
   "id": "c781b39b",
   "metadata": {},
   "outputs": [],
   "source": [
    "X_train, X_test, y_train, y_test = train_test_split(poly_X, y, test_size=0.2, random_state=101)"
   ]
  },
  {
   "cell_type": "markdown",
   "id": "9eb26faa",
   "metadata": {},
   "source": [
    "# Step7: Polynomial Regression"
   ]
  },
  {
   "cell_type": "markdown",
   "id": "da7fe403",
   "metadata": {},
   "source": [
    "### Creat the Model"
   ]
  },
  {
   "cell_type": "code",
   "execution_count": 336,
   "id": "54347473",
   "metadata": {},
   "outputs": [],
   "source": [
    "polymodel = LinearRegression()"
   ]
  },
  {
   "cell_type": "markdown",
   "id": "34e7f135",
   "metadata": {},
   "source": [
    "###  Train the Model"
   ]
  },
  {
   "cell_type": "code",
   "execution_count": 337,
   "id": "6015bdda",
   "metadata": {},
   "outputs": [
    {
     "data": {
      "text/plain": [
       "LinearRegression()"
      ]
     },
     "execution_count": 337,
     "metadata": {},
     "output_type": "execute_result"
    }
   ],
   "source": [
    "polymodel.fit(X_train, y_train)"
   ]
  },
  {
   "cell_type": "markdown",
   "id": "33419738",
   "metadata": {},
   "source": [
    "### Print Coefficient and Intercept"
   ]
  },
  {
   "cell_type": "code",
   "execution_count": 338,
   "id": "53e5b9eb",
   "metadata": {},
   "outputs": [
    {
     "data": {
      "text/plain": [
       "array([ 7.26622059e+00, -1.16112083e+04, -2.41789304e+01,  2.08268352e+01,\n",
       "        5.15720032e+03,  5.40069802e+05,  1.50788927e+06,  6.59770744e+00,\n",
       "        8.14238388e-02, -3.47685913e-03, -6.97130318e-01, -4.86065756e+01,\n",
       "       -1.12957595e+02,  1.98664401e-02,  7.12317600e-05,  1.41707768e-02,\n",
       "       -7.47035125e+00,  3.75353793e-01, -1.65586862e-07, -1.06663461e-03,\n",
       "       -2.88299213e-01, -5.45813895e-02,  3.75546535e-02, -1.25392468e+02,\n",
       "       -5.11629049e+00,  3.38236555e+03, -5.01851995e+03, -4.75200446e+03])"
      ]
     },
     "execution_count": 338,
     "metadata": {},
     "output_type": "execute_result"
    }
   ],
   "source": [
    "polymodel.coef_ "
   ]
  },
  {
   "cell_type": "code",
   "execution_count": 339,
   "id": "489cf6ec",
   "metadata": {},
   "outputs": [
    {
     "data": {
      "text/plain": [
       "-86718586.21077575"
      ]
     },
     "execution_count": 339,
     "metadata": {},
     "output_type": "execute_result"
    }
   ],
   "source": [
    "polymodel.intercept_"
   ]
  },
  {
   "cell_type": "markdown",
   "id": "ddda4fe0",
   "metadata": {},
   "source": [
    "###  Prediction & Evaluation"
   ]
  },
  {
   "cell_type": "code",
   "execution_count": 340,
   "id": "a390108e",
   "metadata": {},
   "outputs": [],
   "source": [
    "y_pred = polymodel.predict(X_test)"
   ]
  },
  {
   "cell_type": "code",
   "execution_count": 341,
   "id": "f26b5fbe",
   "metadata": {},
   "outputs": [
    {
     "data": {
      "text/html": [
       "<div>\n",
       "<style scoped>\n",
       "    .dataframe tbody tr th:only-of-type {\n",
       "        vertical-align: middle;\n",
       "    }\n",
       "\n",
       "    .dataframe tbody tr th {\n",
       "        vertical-align: top;\n",
       "    }\n",
       "\n",
       "    .dataframe thead th {\n",
       "        text-align: right;\n",
       "    }\n",
       "</style>\n",
       "<table border=\"1\" class=\"dataframe\">\n",
       "  <thead>\n",
       "    <tr style=\"text-align: right;\">\n",
       "      <th></th>\n",
       "      <th>y_test_Polynomial</th>\n",
       "      <th>y_pred_Polynomial</th>\n",
       "      <th>Error_Polynomial</th>\n",
       "    </tr>\n",
       "  </thead>\n",
       "  <tbody>\n",
       "    <tr>\n",
       "      <th>176</th>\n",
       "      <td>19.2</td>\n",
       "      <td>16.450025</td>\n",
       "      <td>2.749975</td>\n",
       "    </tr>\n",
       "    <tr>\n",
       "      <th>347</th>\n",
       "      <td>11.2</td>\n",
       "      <td>4.833575</td>\n",
       "      <td>6.366425</td>\n",
       "    </tr>\n",
       "    <tr>\n",
       "      <th>307</th>\n",
       "      <td>24.7</td>\n",
       "      <td>20.361103</td>\n",
       "      <td>4.338897</td>\n",
       "    </tr>\n",
       "    <tr>\n",
       "      <th>299</th>\n",
       "      <td>46.1</td>\n",
       "      <td>46.203381</td>\n",
       "      <td>-0.103381</td>\n",
       "    </tr>\n",
       "    <tr>\n",
       "      <th>391</th>\n",
       "      <td>31.3</td>\n",
       "      <td>28.758183</td>\n",
       "      <td>2.541817</td>\n",
       "    </tr>\n",
       "    <tr>\n",
       "      <th>...</th>\n",
       "      <td>...</td>\n",
       "      <td>...</td>\n",
       "      <td>...</td>\n",
       "    </tr>\n",
       "    <tr>\n",
       "      <th>65</th>\n",
       "      <td>44.3</td>\n",
       "      <td>50.258696</td>\n",
       "      <td>-5.958696</td>\n",
       "    </tr>\n",
       "    <tr>\n",
       "      <th>48</th>\n",
       "      <td>13.4</td>\n",
       "      <td>18.916831</td>\n",
       "      <td>-5.516831</td>\n",
       "    </tr>\n",
       "    <tr>\n",
       "      <th>18</th>\n",
       "      <td>42.3</td>\n",
       "      <td>45.718028</td>\n",
       "      <td>-3.418028</td>\n",
       "    </tr>\n",
       "    <tr>\n",
       "      <th>15</th>\n",
       "      <td>50.5</td>\n",
       "      <td>46.065933</td>\n",
       "      <td>4.434067</td>\n",
       "    </tr>\n",
       "    <tr>\n",
       "      <th>143</th>\n",
       "      <td>40.1</td>\n",
       "      <td>42.236326</td>\n",
       "      <td>-2.136326</td>\n",
       "    </tr>\n",
       "  </tbody>\n",
       "</table>\n",
       "<p>83 rows × 3 columns</p>\n",
       "</div>"
      ],
      "text/plain": [
       "     y_test_Polynomial  y_pred_Polynomial  Error_Polynomial\n",
       "176               19.2          16.450025          2.749975\n",
       "347               11.2           4.833575          6.366425\n",
       "307               24.7          20.361103          4.338897\n",
       "299               46.1          46.203381         -0.103381\n",
       "391               31.3          28.758183          2.541817\n",
       "..                 ...                ...               ...\n",
       "65                44.3          50.258696         -5.958696\n",
       "48                13.4          18.916831         -5.516831\n",
       "18                42.3          45.718028         -3.418028\n",
       "15                50.5          46.065933          4.434067\n",
       "143               40.1          42.236326         -2.136326\n",
       "\n",
       "[83 rows x 3 columns]"
      ]
     },
     "execution_count": 341,
     "metadata": {},
     "output_type": "execute_result"
    }
   ],
   "source": [
    "pd.DataFrame({'y_test_Polynomial':y_test, 'y_pred_Polynomial':y_pred, \"Error_Polynomial\":(y_test - y_pred)})"
   ]
  },
  {
   "cell_type": "markdown",
   "id": "34cf9e74",
   "metadata": {},
   "source": [
    "### Creat a DataFrame\n",
    "<hr>\n",
    "<b>MAE, MSE, RMSE</b>"
   ]
  },
  {
   "cell_type": "code",
   "execution_count": 342,
   "id": "40b50657",
   "metadata": {},
   "outputs": [],
   "source": [
    "MAE = metrics.mean_absolute_error(y_test, y_pred)\n",
    "MSE = metrics.mean_squared_error(y_test, y_pred)\n",
    "RMSE = np.sqrt(MSE)"
   ]
  },
  {
   "cell_type": "code",
   "execution_count": 343,
   "id": "1a8f5ae5",
   "metadata": {},
   "outputs": [
    {
     "data": {
      "text/html": [
       "<div>\n",
       "<style scoped>\n",
       "    .dataframe tbody tr th:only-of-type {\n",
       "        vertical-align: middle;\n",
       "    }\n",
       "\n",
       "    .dataframe tbody tr th {\n",
       "        vertical-align: top;\n",
       "    }\n",
       "\n",
       "    .dataframe thead th {\n",
       "        text-align: right;\n",
       "    }\n",
       "</style>\n",
       "<table border=\"1\" class=\"dataframe\">\n",
       "  <thead>\n",
       "    <tr style=\"text-align: right;\">\n",
       "      <th></th>\n",
       "      <th>Error_Poly</th>\n",
       "    </tr>\n",
       "  </thead>\n",
       "  <tbody>\n",
       "    <tr>\n",
       "      <th>MAE</th>\n",
       "      <td>4.181807</td>\n",
       "    </tr>\n",
       "    <tr>\n",
       "      <th>MSE</th>\n",
       "      <td>28.002315</td>\n",
       "    </tr>\n",
       "    <tr>\n",
       "      <th>RMSE</th>\n",
       "      <td>5.291721</td>\n",
       "    </tr>\n",
       "  </tbody>\n",
       "</table>\n",
       "</div>"
      ],
      "text/plain": [
       "      Error_Poly\n",
       "MAE     4.181807\n",
       "MSE    28.002315\n",
       "RMSE    5.291721"
      ]
     },
     "execution_count": 343,
     "metadata": {},
     "output_type": "execute_result"
    }
   ],
   "source": [
    "Error_Poly = pd.DataFrame([MAE, MSE, RMSE], index=['MAE', 'MSE', 'RMSE'], columns=['Error_Poly'])\n",
    "Error_Poly"
   ]
  },
  {
   "cell_type": "code",
   "execution_count": 344,
   "id": "75b51fd9",
   "metadata": {},
   "outputs": [
    {
     "data": {
      "image/png": "[encoded data removed]",
      "text/plain": [
       "<Figure size 432x288 with 1 Axes>"
      ]
     },
     "metadata": {
      "needs_background": "light"
     },
     "output_type": "display_data"
    }
   ],
   "source": [
    "test_residuals = y_test - y_pred\n",
    "sns.scatterplot(x=y_test, y=y_pred)\n",
    "plt.xlabel('Y-Test-Poly', fontsize=12)\n",
    "plt.ylabel('Y-Pred-Poly', fontsize=12)\n",
    "plt.show()"
   ]
  },
  {
   "cell_type": "code",
   "execution_count": 345,
   "id": "626a50d7",
   "metadata": {},
   "outputs": [
    {
     "data": {
      "image/png": "[encoded data removed]",
      "text/plain": [
       "<Figure size 432x288 with 1 Axes>"
      ]
     },
     "metadata": {
      "needs_background": "light"
     },
     "output_type": "display_data"
    }
   ],
   "source": [
    "sns.scatterplot(x=y_test, y=test_residuals , color='b')\n",
    "plt.axhline(y=0, color='r', ls='--')\n",
    "plt.xlabel('Y-Test-Poly', fontsize=12)\n",
    "plt.ylabel('Test Residuals Polynimial', fontsize=12)\n",
    "plt.show()"
   ]
  },
  {
   "cell_type": "code",
   "execution_count": 346,
   "id": "8ff0928e",
   "metadata": {},
   "outputs": [
    {
     "data": {
      "text/plain": [
       "<seaborn.axisgrid.FacetGrid at 0x288045f0a90>"
      ]
     },
     "execution_count": 346,
     "metadata": {},
     "output_type": "execute_result"
    },
    {
     "data": {
      "image/png": "[encoded data removed]",
      "text/plain": [
       "<Figure size 360x360 with 1 Axes>"
      ]
     },
     "metadata": {
      "needs_background": "light"
     },
     "output_type": "display_data"
    }
   ],
   "source": [
    "sns.displot(test_residuals, bins=25, kde=True)"
   ]
  },
  {
   "cell_type": "markdown",
   "id": "b75bfefa",
   "metadata": {},
   "source": [
    "# Step8: Concat DataFrame in Step4 and Step7"
   ]
  },
  {
   "cell_type": "code",
   "execution_count": 347,
   "id": "162725a6",
   "metadata": {},
   "outputs": [
    {
     "data": {
      "text/html": [
       "<div>\n",
       "<style scoped>\n",
       "    .dataframe tbody tr th:only-of-type {\n",
       "        vertical-align: middle;\n",
       "    }\n",
       "\n",
       "    .dataframe tbody tr th {\n",
       "        vertical-align: top;\n",
       "    }\n",
       "\n",
       "    .dataframe thead th {\n",
       "        text-align: right;\n",
       "    }\n",
       "</style>\n",
       "<table border=\"1\" class=\"dataframe\">\n",
       "  <thead>\n",
       "    <tr style=\"text-align: right;\">\n",
       "      <th></th>\n",
       "      <th>Error_LR</th>\n",
       "      <th>Error_Poly</th>\n",
       "    </tr>\n",
       "  </thead>\n",
       "  <tbody>\n",
       "    <tr>\n",
       "      <th>MAE</th>\n",
       "      <td>5.195031</td>\n",
       "      <td>4.181807</td>\n",
       "    </tr>\n",
       "    <tr>\n",
       "      <th>MSE</th>\n",
       "      <td>44.129008</td>\n",
       "      <td>28.002315</td>\n",
       "    </tr>\n",
       "    <tr>\n",
       "      <th>RMSE</th>\n",
       "      <td>6.642967</td>\n",
       "      <td>5.291721</td>\n",
       "    </tr>\n",
       "  </tbody>\n",
       "</table>\n",
       "</div>"
      ],
      "text/plain": [
       "       Error_LR  Error_Poly\n",
       "MAE    5.195031    4.181807\n",
       "MSE   44.129008   28.002315\n",
       "RMSE   6.642967    5.291721"
      ]
     },
     "execution_count": 347,
     "metadata": {},
     "output_type": "execute_result"
    }
   ],
   "source": [
    "pd.concat([Error_L, Error_Poly], axis=1)"
   ]
  },
  {
   "cell_type": "markdown",
   "id": "1913f6b7",
   "metadata": {},
   "source": [
    "# Step9: Choose Degree\n",
    "<hr>\n",
    "Plot RMSE Train and RMSE Test for different degrees"
   ]
  },
  {
   "cell_type": "code",
   "execution_count": 348,
   "id": "fc609d69",
   "metadata": {},
   "outputs": [],
   "source": [
    "train_RMSE_list = []\n",
    "\n",
    "test_RMSE_list =[]\n",
    "for d in range(1,10):\n",
    "    \n",
    "    #Feature\n",
    "    polyFeture = PolynomialFeatures(degree=d, include_bias=True)\n",
    "    poly_x = polyFeture.fit_transform(X)\n",
    "    \n",
    "    #split train test\n",
    "    X_train, X_test, y_train, y_test = train_test_split(poly_x, y,\n",
    "                                                       test_size=0.3,\n",
    "                                                       random_state=101)\n",
    "    #creat model\n",
    "    PolyModel = LinearRegression()\n",
    "    \n",
    "    #train\n",
    "    PolyModel.fit(X_train, y_train)\n",
    "    \n",
    "    #predict\n",
    "    y_train_pred = PolyModel.predict(X_train)\n",
    "    y_test_pred = PolyModel.predict(X_test)\n",
    "    \n",
    "    #RMSE\n",
    "    train_RMSE = np.sqrt(metrics.mean_squared_error(y_train, y_train_pred))\n",
    "    \n",
    "    test_RMSE = np.sqrt(metrics.mean_squared_error(y_test, y_test_pred))\n",
    "    \n",
    "    \n",
    "    train_RMSE_list.append(train_RMSE)\n",
    "    \n",
    "    test_RMSE_list.append(test_RMSE)"
   ]
  },
  {
   "cell_type": "code",
   "execution_count": 349,
   "id": "524e777a",
   "metadata": {},
   "outputs": [
    {
     "data": {
      "text/plain": [
       "[9.543254404458269,\n",
       " 8.160754051920613,\n",
       " 7.287474787855259,\n",
       " 6.394571059314882,\n",
       " 6.983667101283596,\n",
       " 7.258139654637366,\n",
       " 5.3540492008206515,\n",
       " 5.029426171516172,\n",
       " 6.061559222412844]"
      ]
     },
     "execution_count": 349,
     "metadata": {},
     "output_type": "execute_result"
    }
   ],
   "source": [
    "train_RMSE_list"
   ]
  },
  {
   "cell_type": "code",
   "execution_count": 350,
   "id": "0f1b9f94",
   "metadata": {},
   "outputs": [
    {
     "data": {
      "text/plain": [
       "[6.79792599510682,\n",
       " 5.386880736890806,\n",
       " 10.606140131845724,\n",
       " 89.17087251326936,\n",
       " 830.8102701695084,\n",
       " 1704.148143098659,\n",
       " 40459.44174437912,\n",
       " 18877.93066623942,\n",
       " 137765.0370249122]"
      ]
     },
     "execution_count": 350,
     "metadata": {},
     "output_type": "execute_result"
    }
   ],
   "source": [
    "test_RMSE_list"
   ]
  },
  {
   "cell_type": "code",
   "execution_count": 351,
   "id": "49fc4522",
   "metadata": {},
   "outputs": [
    {
     "data": {
      "text/plain": [
       "<matplotlib.legend.Legend at 0x28803e15550>"
      ]
     },
     "execution_count": 351,
     "metadata": {},
     "output_type": "execute_result"
    },
    {
     "data": {
      "image/png": "[encoded data removed]",
      "text/plain": [
       "<Figure size 432x288 with 1 Axes>"
      ]
     },
     "metadata": {
      "needs_background": "light"
     },
     "output_type": "display_data"
    }
   ],
   "source": [
    "plt.plot(range(1,5), train_RMSE_list[:4], label='Train')\n",
    "plt.plot(range(1,5), test_RMSE_list[:4], label='Test')\n",
    "\n",
    "plt.xlabel('Degree')\n",
    "\n",
    "plt.ylabel('RMSE')\n",
    "\n",
    "plt.legend()"
   ]
  },
  {
   "cell_type": "markdown",
   "id": "8f6bf3c8",
   "metadata": {},
   "source": [
    "<div class=\"alert alert-success\" role=\"alert\">\n",
    "  <h1 class=\"alert-heading\">Well done!</h1>\n",
    "  <p>Best Wishes!, Filoger</p>\n",
    "</div>"
   ]
  }
 ],
 "metadata": {
  "kernelspec": {
   "display_name": "Python 3",
   "language": "python",
   "name": "python3"
  },
  "language_info": {
   "codemirror_mode": {
    "name": "ipython",
    "version": 3
   },
   "file_extension": ".py",
   "mimetype": "text/x-python",
   "name": "python",
   "nbconvert_exporter": "python",
   "pygments_lexer": "ipython3",
   "version": "3.8.8"
  }
 },
 "nbformat": 4,
 "nbformat_minor": 5
}
