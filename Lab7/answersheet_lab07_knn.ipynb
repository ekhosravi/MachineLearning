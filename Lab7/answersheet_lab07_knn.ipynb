{
 "cells": [
  {
   "cell_type": "markdown",
   "id": "ffd33b40",
   "metadata": {},
   "source": [
    "# <img src=\"https://filoger.com/wp-content/uploads/2021/09/circle-logo-1536x1536.png\" alt=\"keras\" width=\"150\" height=\"150\">\n",
    "<h1 align=center><font size = 7>Lab 07 : K-Nearest Neighbors</font></h1>\n",
    "<h1 align=center><font size = 4>Hands-On Machine Learning, 1401 | DeadLine: 24th Aban, 13:00 </font></h1>\n",
    "\n"
   ]
  },
  {
   "cell_type": "markdown",
   "id": "e532b511",
   "metadata": {},
   "source": [
    "# Step0: Import Libraries"
   ]
  },
  {
   "cell_type": "code",
   "execution_count": null,
   "id": "33229694",
   "metadata": {},
   "outputs": [],
   "source": []
  },
  {
   "cell_type": "markdown",
   "id": "0aeff1a6",
   "metadata": {},
   "source": [
    "# Step1: Read Data"
   ]
  },
  {
   "cell_type": "code",
   "execution_count": null,
   "id": "b04ed4fd",
   "metadata": {},
   "outputs": [],
   "source": []
  },
  {
   "cell_type": "markdown",
   "id": "78d2098f",
   "metadata": {},
   "source": [
    "# Step2: Data Overview"
   ]
  },
  {
   "cell_type": "code",
   "execution_count": null,
   "id": "4b54e40a",
   "metadata": {},
   "outputs": [],
   "source": []
  },
  {
   "cell_type": "markdown",
   "id": "bc6969be",
   "metadata": {},
   "source": [
    "# Step3: X, y"
   ]
  },
  {
   "cell_type": "code",
   "execution_count": null,
   "id": "1e341000",
   "metadata": {},
   "outputs": [],
   "source": []
  },
  {
   "cell_type": "markdown",
   "id": "dc5557e0",
   "metadata": {},
   "source": [
    "# Step4: Split the Data to Train & Test"
   ]
  },
  {
   "cell_type": "code",
   "execution_count": null,
   "id": "90bfa293",
   "metadata": {},
   "outputs": [],
   "source": []
  },
  {
   "cell_type": "markdown",
   "id": "a49062cb",
   "metadata": {},
   "source": [
    "# Step5: Scaling the Features"
   ]
  },
  {
   "cell_type": "code",
   "execution_count": null,
   "id": "410070f0",
   "metadata": {},
   "outputs": [],
   "source": []
  },
  {
   "cell_type": "markdown",
   "id": "f9ca4696",
   "metadata": {},
   "source": [
    "# Step6: KNN"
   ]
  },
  {
   "cell_type": "markdown",
   "id": "3c158756",
   "metadata": {},
   "source": [
    "## Creat the Model"
   ]
  },
  {
   "cell_type": "code",
   "execution_count": null,
   "id": "660260a6",
   "metadata": {},
   "outputs": [],
   "source": []
  },
  {
   "cell_type": "markdown",
   "id": "9c3189b2",
   "metadata": {},
   "source": [
    "## Train the Model"
   ]
  },
  {
   "cell_type": "code",
   "execution_count": null,
   "id": "9a877438",
   "metadata": {},
   "outputs": [],
   "source": []
  },
  {
   "cell_type": "markdown",
   "id": "ed1710d5",
   "metadata": {},
   "source": [
    "##  Prediction & Evaluation\n",
    "<hr>\n",
    "print classification report"
   ]
  },
  {
   "cell_type": "code",
   "execution_count": null,
   "id": "0b22e0a6",
   "metadata": {},
   "outputs": [],
   "source": []
  },
  {
   "cell_type": "markdown",
   "id": "9e46fc7a",
   "metadata": {},
   "source": [
    "# Step7: Elbow Method for Choosing Reasonable K Values"
   ]
  },
  {
   "cell_type": "code",
   "execution_count": null,
   "id": "21b0772c",
   "metadata": {},
   "outputs": [],
   "source": []
  },
  {
   "cell_type": "markdown",
   "id": "7cb8ef5f",
   "metadata": {},
   "source": [
    "# Step8: Creating a Pipeline to find K value"
   ]
  },
  {
   "cell_type": "code",
   "execution_count": null,
   "id": "17845c0a",
   "metadata": {},
   "outputs": [],
   "source": []
  },
  {
   "cell_type": "markdown",
   "id": "4a7c5b81",
   "metadata": {},
   "source": [
    "# Challenge"
   ]
  },
  {
   "cell_type": "code",
   "execution_count": null,
   "id": "4c4537c9",
   "metadata": {},
   "outputs": [],
   "source": []
  },
  {
   "cell_type": "markdown",
   "id": "8f6bf3c8",
   "metadata": {},
   "source": [
    "<div class=\"alert alert-success\" role=\"alert\">\n",
    "  <h1 class=\"alert-heading\">Well done!</h1>\n",
    "  <p>Best Wishes!, Filoger</p>\n",
    "</div>"
   ]
  }
 ],
 "metadata": {
  "kernelspec": {
   "display_name": "Python 3 (ipykernel)",
   "language": "python",
   "name": "python3"
  },
  "language_info": {
   "codemirror_mode": {
    "name": "ipython",
    "version": 3
   },
   "file_extension": ".py",
   "mimetype": "text/x-python",
   "name": "python",
   "nbconvert_exporter": "python",
   "pygments_lexer": "ipython3",
   "version": "3.9.13"
  }
 },
 "nbformat": 4,
 "nbformat_minor": 5
}
